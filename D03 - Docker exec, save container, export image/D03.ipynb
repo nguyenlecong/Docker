{
 "cells": [
  {
   "cell_type": "code",
   "execution_count": 1,
   "metadata": {},
   "outputs": [
    {
     "name": "stdout",
     "output_type": "stream",
     "text": [
      "CONTAINER ID   IMAGE           COMMAND       CREATED          STATUS                        PORTS     NAMES\n",
      "09d6da5c950e   ubuntu:latest   \"/bin/bash\"   7 minutes ago    Exited (129) 7 minutes ago              ABC\n",
      "adbe0d5f6f9c   ubuntu:latest   \"/bin/bash\"   19 minutes ago   Exited (129) 17 minutes ago             vibrant_hellman\n"
     ]
    }
   ],
   "source": [
    "!docker ps -a"
   ]
  },
  {
   "cell_type": "code",
   "execution_count": 2,
   "metadata": {},
   "outputs": [
    {
     "name": "stdout",
     "output_type": "stream",
     "text": [
      "ABC\n"
     ]
    }
   ],
   "source": [
    "!docker start ABC"
   ]
  },
  {
   "attachments": {},
   "cell_type": "markdown",
   "metadata": {},
   "source": [
    "<b> Thi hanh lenh trong container dang chay tu ben ngoai"
   ]
  },
  {
   "cell_type": "code",
   "execution_count": null,
   "metadata": {},
   "outputs": [],
   "source": [
    "!docker exec ABC ls"
   ]
  },
  {
   "cell_type": "code",
   "execution_count": null,
   "metadata": {},
   "outputs": [],
   "source": [
    "!docker exec -it ABC bash"
   ]
  },
  {
   "attachments": {},
   "cell_type": "markdown",
   "metadata": {},
   "source": [
    "<b> Luu container thanh image"
   ]
  },
  {
   "cell_type": "code",
   "execution_count": 1,
   "metadata": {},
   "outputs": [
    {
     "name": "stdout",
     "output_type": "stream",
     "text": [
      "REPOSITORY   TAG       IMAGE ID       CREATED       SIZE\n",
      "ubuntu       latest    08d22c0ceb15   5 weeks ago   77.8MB\n"
     ]
    }
   ],
   "source": [
    "!docker images"
   ]
  },
  {
   "cell_type": "code",
   "execution_count": 2,
   "metadata": {},
   "outputs": [
    {
     "name": "stdout",
     "output_type": "stream",
     "text": [
      "sha256:b49d7a0ddb930f85224556be91abaf668e3848e747971b96fd44f63cce874186\n"
     ]
    }
   ],
   "source": [
    "!docker commit ABC ubuntu-latest:version_1"
   ]
  },
  {
   "cell_type": "code",
   "execution_count": 5,
   "metadata": {},
   "outputs": [
    {
     "name": "stdout",
     "output_type": "stream",
     "text": [
      "REPOSITORY      TAG         IMAGE ID       CREATED          SIZE\n",
      "ubuntu-latest   version_1   b49d7a0ddb93   40 seconds ago   77.8MB\n",
      "ubuntu          latest      08d22c0ceb15   5 weeks ago      77.8MB\n"
     ]
    }
   ],
   "source": [
    "!docker images"
   ]
  },
  {
   "attachments": {},
   "cell_type": "markdown",
   "metadata": {},
   "source": [
    "<b>Luu image thanh file"
   ]
  },
  {
   "cell_type": "code",
   "execution_count": 7,
   "metadata": {},
   "outputs": [],
   "source": [
    "!docker save --output myimage.tar b49"
   ]
  },
  {
   "cell_type": "code",
   "execution_count": 10,
   "metadata": {},
   "outputs": [
    {
     "name": "stdout",
     "output_type": "stream",
     "text": [
      "Untagged: ubuntu-latest:version_1\n",
      "Deleted: sha256:b49d7a0ddb930f85224556be91abaf668e3848e747971b96fd44f63cce874186\n",
      "Deleted: sha256:58cddc07d98c1a9cabf31457db9800e49b451b7d0d40d3c7833181aa816cb9f4\n"
     ]
    }
   ],
   "source": [
    "!docker image rm b49"
   ]
  },
  {
   "cell_type": "code",
   "execution_count": 11,
   "metadata": {},
   "outputs": [
    {
     "name": "stdout",
     "output_type": "stream",
     "text": [
      "\n",
      "\u001b[1B3caf2c10: Loading layer   2.56kB/2.56kBLoaded image ID: sha256:b49d7a0ddb930f85224556be91abaf668e3848e747971b96fd44f63cce874186\n"
     ]
    }
   ],
   "source": [
    "!docker load -i myimage.tar "
   ]
  },
  {
   "cell_type": "code",
   "execution_count": 12,
   "metadata": {},
   "outputs": [
    {
     "name": "stdout",
     "output_type": "stream",
     "text": [
      "REPOSITORY   TAG       IMAGE ID       CREATED         SIZE\n",
      "<none>       <none>    b49d7a0ddb93   6 minutes ago   77.8MB\n",
      "ubuntu       latest    08d22c0ceb15   5 weeks ago     77.8MB\n"
     ]
    }
   ],
   "source": [
    "!docker images"
   ]
  },
  {
   "cell_type": "code",
   "execution_count": 13,
   "metadata": {},
   "outputs": [],
   "source": [
    "!docker tag b49 ubuntu:v2"
   ]
  },
  {
   "cell_type": "code",
   "execution_count": 14,
   "metadata": {},
   "outputs": [
    {
     "name": "stdout",
     "output_type": "stream",
     "text": [
      "REPOSITORY   TAG       IMAGE ID       CREATED         SIZE\n",
      "ubuntu       v2        b49d7a0ddb93   7 minutes ago   77.8MB\n",
      "ubuntu       latest    08d22c0ceb15   5 weeks ago     77.8MB\n"
     ]
    }
   ],
   "source": [
    "!docker images"
   ]
  }
 ],
 "metadata": {
  "kernelspec": {
   "display_name": "base",
   "language": "python",
   "name": "python3"
  },
  "language_info": {
   "codemirror_mode": {
    "name": "ipython",
    "version": 3
   },
   "file_extension": ".py",
   "mimetype": "text/x-python",
   "name": "python",
   "nbconvert_exporter": "python",
   "pygments_lexer": "ipython3",
   "version": "3.9.13"
  },
  "orig_nbformat": 4
 },
 "nbformat": 4,
 "nbformat_minor": 2
}
