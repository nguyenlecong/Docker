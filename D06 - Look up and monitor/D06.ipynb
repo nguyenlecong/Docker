{
 "cells": [
  {
   "cell_type": "code",
   "execution_count": 1,
   "metadata": {},
   "outputs": [
    {
     "name": "stdout",
     "output_type": "stream",
     "text": [
      "REPOSITORY   TAG       IMAGE ID       CREATED       SIZE\n",
      "ubuntu       v2        b49d7a0ddb93   2 days ago    77.8MB\n",
      "busybox      latest    7cfbbec8963d   4 weeks ago   4.86MB\n",
      "ubuntu       latest    08d22c0ceb15   5 weeks ago   77.8MB\n"
     ]
    }
   ],
   "source": [
    "!docker images"
   ]
  },
  {
   "cell_type": "code",
   "execution_count": 2,
   "metadata": {},
   "outputs": [
    {
     "name": "stdout",
     "output_type": "stream",
     "text": [
      "IMAGE          CREATED       CREATED BY                                      SIZE      COMMENT\n",
      "b49d7a0ddb93   2 days ago    /bin/bash                                       5B        \n",
      "<missing>      5 weeks ago   /bin/sh -c #(nop)  CMD [\"/bin/bash\"]            0B        \n",
      "<missing>      5 weeks ago   /bin/sh -c #(nop) ADD file:c8ef6447752cab254…   77.8MB    \n",
      "<missing>      5 weeks ago   /bin/sh -c #(nop)  LABEL org.opencontainers.…   0B        \n",
      "<missing>      5 weeks ago   /bin/sh -c #(nop)  LABEL org.opencontainers.…   0B        \n",
      "<missing>      5 weeks ago   /bin/sh -c #(nop)  ARG LAUNCHPAD_BUILD_ARCH     0B        \n",
      "<missing>      5 weeks ago   /bin/sh -c #(nop)  ARG RELEASE                  0B        \n"
     ]
    }
   ],
   "source": [
    "!docker image history b49"
   ]
  },
  {
   "cell_type": "code",
   "execution_count": 3,
   "metadata": {},
   "outputs": [
    {
     "name": "stdout",
     "output_type": "stream",
     "text": [
      "[\n",
      "    {\n",
      "        \"Id\": \"sha256:b49d7a0ddb930f85224556be91abaf668e3848e747971b96fd44f63cce874186\",\n",
      "        \"RepoTags\": [\n",
      "            \"ubuntu:v2\"\n",
      "        ],\n",
      "        \"RepoDigests\": [],\n",
      "        \"Parent\": \"\",\n",
      "        \"Comment\": \"\",\n",
      "        \"Created\": \"2023-04-14T07:46:52.407309884Z\",\n",
      "        \"Container\": \"09d6da5c950e48b6eae8440c300772364f2bdaa0516fa95c74a9a5694de6f8e4\",\n",
      "        \"ContainerConfig\": {\n",
      "            \"Hostname\": \"ubuntu_1\",\n",
      "            \"Domainname\": \"\",\n",
      "            \"User\": \"\",\n",
      "            \"AttachStdin\": true,\n",
      "            \"AttachStdout\": true,\n",
      "            \"AttachStderr\": true,\n",
      "            \"Tty\": true,\n",
      "            \"OpenStdin\": true,\n",
      "            \"StdinOnce\": true,\n",
      "            \"Env\": [\n",
      "                \"PATH=/usr/local/sbin:/usr/local/bin:/usr/sbin:/usr/bin:/sbin:/bin\"\n",
      "            ],\n",
      "            \"Cmd\": [\n",
      "                \"/bin/bash\"\n",
      "            ],\n",
      "            \"Image\": \"ubuntu:latest\",\n",
      "            \"Volumes\": null,\n",
      "            \"WorkingDir\": \"\",\n",
      "            \"Entrypoint\": null,\n",
      "            \"OnBuild\": null,\n",
      "            \"Labels\": {\n",
      "                \"org.opencontainers.image.ref.name\": \"ubuntu\",\n",
      "                \"org.opencontainers.image.version\": \"22.04\"\n",
      "            }\n",
      "        },\n",
      "        \"DockerVersion\": \"23.0.3\",\n",
      "        \"Author\": \"\",\n",
      "        \"Config\": {\n",
      "            \"Hostname\": \"ubuntu_1\",\n",
      "            \"Domainname\": \"\",\n",
      "            \"User\": \"\",\n",
      "            \"AttachStdin\": true,\n",
      "            \"AttachStdout\": true,\n",
      "            \"AttachStderr\": true,\n",
      "            \"Tty\": true,\n",
      "            \"OpenStdin\": true,\n",
      "            \"StdinOnce\": true,\n",
      "            \"Env\": [\n",
      "                \"PATH=/usr/local/sbin:/usr/local/bin:/usr/sbin:/usr/bin:/sbin:/bin\"\n",
      "            ],\n",
      "            \"Cmd\": [\n",
      "                \"/bin/bash\"\n",
      "            ],\n",
      "            \"Image\": \"ubuntu:latest\",\n",
      "            \"Volumes\": null,\n",
      "            \"WorkingDir\": \"\",\n",
      "            \"Entrypoint\": null,\n",
      "            \"OnBuild\": null,\n",
      "            \"Labels\": {\n",
      "                \"org.opencontainers.image.ref.name\": \"ubuntu\",\n",
      "                \"org.opencontainers.image.version\": \"22.04\"\n",
      "            }\n",
      "        },\n",
      "        \"Architecture\": \"amd64\",\n",
      "        \"Os\": \"linux\",\n",
      "        \"Size\": 77810811,\n",
      "        \"VirtualSize\": 77810811,\n",
      "        \"GraphDriver\": {\n",
      "            \"Data\": {\n",
      "                \"LowerDir\": \"/var/lib/docker/overlay2/51a822ea0149f3c7b6a63c93b5aef27fa4c013a955882d3301673c4ab2aa5586/diff\",\n",
      "                \"MergedDir\": \"/var/lib/docker/overlay2/1bb0d3279d0f31dd2fcf0323fcd7288f5039268ffade0f270d7ab13029ab93bb/merged\",\n",
      "                \"UpperDir\": \"/var/lib/docker/overlay2/1bb0d3279d0f31dd2fcf0323fcd7288f5039268ffade0f270d7ab13029ab93bb/diff\",\n",
      "                \"WorkDir\": \"/var/lib/docker/overlay2/1bb0d3279d0f31dd2fcf0323fcd7288f5039268ffade0f270d7ab13029ab93bb/work\"\n",
      "            },\n",
      "            \"Name\": \"overlay2\"\n",
      "        },\n",
      "        \"RootFS\": {\n",
      "            \"Type\": \"layers\",\n",
      "            \"Layers\": [\n",
      "                \"sha256:b93c1bd012ab8fda60f5b4f5906bf244586e0e3292d84571d3abb56472248466\",\n",
      "                \"sha256:7b533caf2c10a2ddd347c195086df3b8796a8482bfc71a1c712545bd5689ba60\"\n",
      "            ]\n",
      "        },\n",
      "        \"Metadata\": {\n",
      "            \"LastTagTime\": \"2023-04-14T14:54:33.717252195+07:00\"\n",
      "        }\n",
      "    }\n",
      "]\n"
     ]
    }
   ],
   "source": [
    "!docker inspect ubuntu:v2"
   ]
  },
  {
   "cell_type": "code",
   "execution_count": null,
   "metadata": {},
   "outputs": [],
   "source": [
    "!docker run b49"
   ]
  },
  {
   "cell_type": "code",
   "execution_count": 6,
   "metadata": {},
   "outputs": [
    {
     "name": "stdout",
     "output_type": "stream",
     "text": [
      "CONTAINER ID   IMAGE     COMMAND       CREATED         STATUS                     PORTS     NAMES\n",
      "b90dfb638d76   b49       \"/bin/bash\"   7 seconds ago   Exited (0) 3 seconds ago             objective_mayer\n"
     ]
    }
   ],
   "source": [
    "!docker ps -a"
   ]
  },
  {
   "cell_type": "code",
   "execution_count": 7,
   "metadata": {},
   "outputs": [
    {
     "name": "stdout",
     "output_type": "stream",
     "text": [
      "[\n",
      "    {\n",
      "        \"Id\": \"b90dfb638d769c7ad53f9d80a22d1dd3d8f5811ac4f795a881f26e17ebd3c1d1\",\n",
      "        \"Created\": \"2023-04-17T03:03:19.182445999Z\",\n",
      "        \"Path\": \"/bin/bash\",\n",
      "        \"Args\": [],\n",
      "        \"State\": {\n",
      "            \"Status\": \"exited\",\n",
      "            \"Running\": false,\n",
      "            \"Paused\": false,\n",
      "            \"Restarting\": false,\n",
      "            \"OOMKilled\": false,\n",
      "            \"Dead\": false,\n",
      "            \"Pid\": 0,\n",
      "            \"ExitCode\": 0,\n",
      "            \"Error\": \"\",\n",
      "            \"StartedAt\": \"2023-04-17T03:03:22.407985491Z\",\n",
      "            \"FinishedAt\": \"2023-04-17T03:03:22.908336534Z\"\n",
      "        },\n",
      "        \"Image\": \"sha256:b49d7a0ddb930f85224556be91abaf668e3848e747971b96fd44f63cce874186\",\n",
      "        \"ResolvConfPath\": \"/var/lib/docker/containers/b90dfb638d769c7ad53f9d80a22d1dd3d8f5811ac4f795a881f26e17ebd3c1d1/resolv.conf\",\n",
      "        \"HostnamePath\": \"/var/lib/docker/containers/b90dfb638d769c7ad53f9d80a22d1dd3d8f5811ac4f795a881f26e17ebd3c1d1/hostname\",\n",
      "        \"HostsPath\": \"/var/lib/docker/containers/b90dfb638d769c7ad53f9d80a22d1dd3d8f5811ac4f795a881f26e17ebd3c1d1/hosts\",\n",
      "        \"LogPath\": \"/var/lib/docker/containers/b90dfb638d769c7ad53f9d80a22d1dd3d8f5811ac4f795a881f26e17ebd3c1d1/b90dfb638d769c7ad53f9d80a22d1dd3d8f5811ac4f795a881f26e17ebd3c1d1-json.log\",\n",
      "        \"Name\": \"/objective_mayer\",\n",
      "        \"RestartCount\": 0,\n",
      "        \"Driver\": \"overlay2\",\n",
      "        \"Platform\": \"linux\",\n",
      "        \"MountLabel\": \"\",\n",
      "        \"ProcessLabel\": \"\",\n",
      "        \"AppArmorProfile\": \"docker-default\",\n",
      "        \"ExecIDs\": null,\n",
      "        \"HostConfig\": {\n",
      "            \"Binds\": null,\n",
      "            \"ContainerIDFile\": \"\",\n",
      "            \"LogConfig\": {\n",
      "                \"Type\": \"json-file\",\n",
      "                \"Config\": {}\n",
      "            },\n",
      "            \"NetworkMode\": \"default\",\n",
      "            \"PortBindings\": {},\n",
      "            \"RestartPolicy\": {\n",
      "                \"Name\": \"no\",\n",
      "                \"MaximumRetryCount\": 0\n",
      "            },\n",
      "            \"AutoRemove\": false,\n",
      "            \"VolumeDriver\": \"\",\n",
      "            \"VolumesFrom\": null,\n",
      "            \"ConsoleSize\": [\n",
      "                24,\n",
      "                80\n",
      "            ],\n",
      "            \"CapAdd\": null,\n",
      "            \"CapDrop\": null,\n",
      "            \"CgroupnsMode\": \"host\",\n",
      "            \"Dns\": [],\n",
      "            \"DnsOptions\": [],\n",
      "            \"DnsSearch\": [],\n",
      "            \"ExtraHosts\": null,\n",
      "            \"GroupAdd\": null,\n",
      "            \"IpcMode\": \"private\",\n",
      "            \"Cgroup\": \"\",\n",
      "            \"Links\": null,\n",
      "            \"OomScoreAdj\": 0,\n",
      "            \"PidMode\": \"\",\n",
      "            \"Privileged\": false,\n",
      "            \"PublishAllPorts\": false,\n",
      "            \"ReadonlyRootfs\": false,\n",
      "            \"SecurityOpt\": null,\n",
      "            \"UTSMode\": \"\",\n",
      "            \"UsernsMode\": \"\",\n",
      "            \"ShmSize\": 67108864,\n",
      "            \"Runtime\": \"runc\",\n",
      "            \"Isolation\": \"\",\n",
      "            \"CpuShares\": 0,\n",
      "            \"Memory\": 0,\n",
      "            \"NanoCpus\": 0,\n",
      "            \"CgroupParent\": \"\",\n",
      "            \"BlkioWeight\": 0,\n",
      "            \"BlkioWeightDevice\": [],\n",
      "            \"BlkioDeviceReadBps\": [],\n",
      "            \"BlkioDeviceWriteBps\": [],\n",
      "            \"BlkioDeviceReadIOps\": [],\n",
      "            \"BlkioDeviceWriteIOps\": [],\n",
      "            \"CpuPeriod\": 0,\n",
      "            \"CpuQuota\": 0,\n",
      "            \"CpuRealtimePeriod\": 0,\n",
      "            \"CpuRealtimeRuntime\": 0,\n",
      "            \"CpusetCpus\": \"\",\n",
      "            \"CpusetMems\": \"\",\n",
      "            \"Devices\": [],\n",
      "            \"DeviceCgroupRules\": null,\n",
      "            \"DeviceRequests\": null,\n",
      "            \"MemoryReservation\": 0,\n",
      "            \"MemorySwap\": 0,\n",
      "            \"MemorySwappiness\": null,\n",
      "            \"OomKillDisable\": false,\n",
      "            \"PidsLimit\": null,\n",
      "            \"Ulimits\": null,\n",
      "            \"CpuCount\": 0,\n",
      "            \"CpuPercent\": 0,\n",
      "            \"IOMaximumIOps\": 0,\n",
      "            \"IOMaximumBandwidth\": 0,\n",
      "            \"MaskedPaths\": [\n",
      "                \"/proc/asound\",\n",
      "                \"/proc/acpi\",\n",
      "                \"/proc/kcore\",\n",
      "                \"/proc/keys\",\n",
      "                \"/proc/latency_stats\",\n",
      "                \"/proc/timer_list\",\n",
      "                \"/proc/timer_stats\",\n",
      "                \"/proc/sched_debug\",\n",
      "                \"/proc/scsi\",\n",
      "                \"/sys/firmware\"\n",
      "            ],\n",
      "            \"ReadonlyPaths\": [\n",
      "                \"/proc/bus\",\n",
      "                \"/proc/fs\",\n",
      "                \"/proc/irq\",\n",
      "                \"/proc/sys\",\n",
      "                \"/proc/sysrq-trigger\"\n",
      "            ]\n",
      "        },\n",
      "        \"GraphDriver\": {\n",
      "            \"Data\": {\n",
      "                \"LowerDir\": \"/var/lib/docker/overlay2/4c1b34e33e9e1dd3a599aeaea8f86bc4529da9b3435f2427a1f9e8cbbd1f624d-init/diff:/var/lib/docker/overlay2/1bb0d3279d0f31dd2fcf0323fcd7288f5039268ffade0f270d7ab13029ab93bb/diff:/var/lib/docker/overlay2/51a822ea0149f3c7b6a63c93b5aef27fa4c013a955882d3301673c4ab2aa5586/diff\",\n",
      "                \"MergedDir\": \"/var/lib/docker/overlay2/4c1b34e33e9e1dd3a599aeaea8f86bc4529da9b3435f2427a1f9e8cbbd1f624d/merged\",\n",
      "                \"UpperDir\": \"/var/lib/docker/overlay2/4c1b34e33e9e1dd3a599aeaea8f86bc4529da9b3435f2427a1f9e8cbbd1f624d/diff\",\n",
      "                \"WorkDir\": \"/var/lib/docker/overlay2/4c1b34e33e9e1dd3a599aeaea8f86bc4529da9b3435f2427a1f9e8cbbd1f624d/work\"\n",
      "            },\n",
      "            \"Name\": \"overlay2\"\n",
      "        },\n",
      "        \"Mounts\": [],\n",
      "        \"Config\": {\n",
      "            \"Hostname\": \"b90dfb638d76\",\n",
      "            \"Domainname\": \"\",\n",
      "            \"User\": \"\",\n",
      "            \"AttachStdin\": false,\n",
      "            \"AttachStdout\": true,\n",
      "            \"AttachStderr\": true,\n",
      "            \"Tty\": false,\n",
      "            \"OpenStdin\": false,\n",
      "            \"StdinOnce\": false,\n",
      "            \"Env\": [\n",
      "                \"PATH=/usr/local/sbin:/usr/local/bin:/usr/sbin:/usr/bin:/sbin:/bin\"\n",
      "            ],\n",
      "            \"Cmd\": [\n",
      "                \"/bin/bash\"\n",
      "            ],\n",
      "            \"Image\": \"b49\",\n",
      "            \"Volumes\": null,\n",
      "            \"WorkingDir\": \"\",\n",
      "            \"Entrypoint\": null,\n",
      "            \"OnBuild\": null,\n",
      "            \"Labels\": {\n",
      "                \"org.opencontainers.image.ref.name\": \"ubuntu\",\n",
      "                \"org.opencontainers.image.version\": \"22.04\"\n",
      "            }\n",
      "        },\n",
      "        \"NetworkSettings\": {\n",
      "            \"Bridge\": \"\",\n",
      "            \"SandboxID\": \"5227ee577e315091428128ae6db862bdcaef034f25fd48e0a62cba90817b3c31\",\n",
      "            \"HairpinMode\": false,\n",
      "            \"LinkLocalIPv6Address\": \"\",\n",
      "            \"LinkLocalIPv6PrefixLen\": 0,\n",
      "            \"Ports\": {},\n",
      "            \"SandboxKey\": \"/var/run/docker/netns/5227ee577e31\",\n",
      "            \"SecondaryIPAddresses\": null,\n",
      "            \"SecondaryIPv6Addresses\": null,\n",
      "            \"EndpointID\": \"\",\n",
      "            \"Gateway\": \"\",\n",
      "            \"GlobalIPv6Address\": \"\",\n",
      "            \"GlobalIPv6PrefixLen\": 0,\n",
      "            \"IPAddress\": \"\",\n",
      "            \"IPPrefixLen\": 0,\n",
      "            \"IPv6Gateway\": \"\",\n",
      "            \"MacAddress\": \"\",\n",
      "            \"Networks\": {\n",
      "                \"bridge\": {\n",
      "                    \"IPAMConfig\": null,\n",
      "                    \"Links\": null,\n",
      "                    \"Aliases\": null,\n",
      "                    \"NetworkID\": \"e6fa042cdaf5511f90b0ff884809af2db339ab2148f6144a07a6737236ee1f11\",\n",
      "                    \"EndpointID\": \"\",\n",
      "                    \"Gateway\": \"\",\n",
      "                    \"IPAddress\": \"\",\n",
      "                    \"IPPrefixLen\": 0,\n",
      "                    \"IPv6Gateway\": \"\",\n",
      "                    \"GlobalIPv6Address\": \"\",\n",
      "                    \"GlobalIPv6PrefixLen\": 0,\n",
      "                    \"MacAddress\": \"\",\n",
      "                    \"DriverOpts\": null\n",
      "                }\n",
      "            }\n",
      "        }\n",
      "    }\n",
      "]\n"
     ]
    }
   ],
   "source": [
    "!docker inspect b9"
   ]
  },
  {
   "cell_type": "code",
   "execution_count": 8,
   "metadata": {},
   "outputs": [],
   "source": [
    "!docker diff b9"
   ]
  },
  {
   "cell_type": "code",
   "execution_count": 10,
   "metadata": {},
   "outputs": [
    {
     "name": "stdout",
     "output_type": "stream",
     "text": [
      "Error response from daemon: Container b90dfb638d769c7ad53f9d80a22d1dd3d8f5811ac4f795a881f26e17ebd3c1d1 is not running\n"
     ]
    }
   ],
   "source": [
    "!docker exec -it b9 bash"
   ]
  },
  {
   "cell_type": "code",
   "execution_count": 11,
   "metadata": {},
   "outputs": [],
   "source": [
    "!docker logs b9"
   ]
  },
  {
   "cell_type": "code",
   "execution_count": 2,
   "metadata": {},
   "outputs": [],
   "source": [
    "!docker logs --tail 10 b9"
   ]
  },
  {
   "cell_type": "code",
   "execution_count": 3,
   "metadata": {},
   "outputs": [],
   "source": [
    "!docker logs -f b9"
   ]
  },
  {
   "cell_type": "code",
   "execution_count": 4,
   "metadata": {},
   "outputs": [
    {
     "name": "stdout",
     "output_type": "stream",
     "text": [
      "\u001b[2J\u001b[HCONTAINER ID   NAME              CPU %     MEM USAGE / LIMIT   MEM %     NET I/O   BLOCK I/O   PIDS\n",
      "b90dfb638d76   objective_mayer   0.00%     0B / 0B             0.00%     0B / 0B   0B / 0B     0\n",
      "\u001b[2J\u001b[HCONTAINER ID   NAME              CPU %     MEM USAGE / LIMIT   MEM %     NET I/O   BLOCK I/O   PIDS\n",
      "b90dfb638d76   objective_mayer   0.00%     0B / 0B             0.00%     0B / 0B   0B / 0B     0\n",
      "\u001b[2J\u001b[HCONTAINER ID   NAME              CPU %     MEM USAGE / LIMIT   MEM %     NET I/O   BLOCK I/O   PIDS\n",
      "b90dfb638d76   objective_mayer   0.00%     0B / 0B             0.00%     0B / 0B   0B / 0B     0\n",
      "\u001b[2J\u001b[HCONTAINER ID   NAME              CPU %     MEM USAGE / LIMIT   MEM %     NET I/O   BLOCK I/O   PIDS\n",
      "b90dfb638d76   objective_mayer   0.00%     0B / 0B             0.00%     0B / 0B   0B / 0B     0\n",
      "\u001b[2J\u001b[HCONTAINER ID   NAME              CPU %     MEM USAGE / LIMIT   MEM %     NET I/O   BLOCK I/O   PIDS\n",
      "b90dfb638d76   objective_mayer   0.00%     0B / 0B             0.00%     0B / 0B   0B / 0B     0\n",
      "\u001b[2J\u001b[HCONTAINER ID   NAME              CPU %     MEM USAGE / LIMIT   MEM %     NET I/O   BLOCK I/O   PIDS\n",
      "b90dfb638d76   objective_mayer   0.00%     0B / 0B             0.00%     0B / 0B   0B / 0B     0\n",
      "\u001b[2J\u001b[HCONTAINER ID   NAME              CPU %     MEM USAGE / LIMIT   MEM %     NET I/O   BLOCK I/O   PIDS\n",
      "b90dfb638d76   objective_mayer   0.00%     0B / 0B             0.00%     0B / 0B   0B / 0B     0\n",
      "\u001b[2J\u001b[HCONTAINER ID   NAME              CPU %     MEM USAGE / LIMIT   MEM %     NET I/O   BLOCK I/O   PIDS\n",
      "b90dfb638d76   objective_mayer   0.00%     0B / 0B             0.00%     0B / 0B   0B / 0B     0\n",
      "\u001b[2J\u001b[HCONTAINER ID   NAME              CPU %     MEM USAGE / LIMIT   MEM %     NET I/O   BLOCK I/O   PIDS\n",
      "b90dfb638d76   objective_mayer   0.00%     0B / 0B             0.00%     0B / 0B   0B / 0B     0\n",
      "\u001b[2J\u001b[HCONTAINER ID   NAME              CPU %     MEM USAGE / LIMIT   MEM %     NET I/O   BLOCK I/O   PIDS\n",
      "b90dfb638d76   objective_mayer   0.00%     0B / 0B             0.00%     0B / 0B   0B / 0B     0\n",
      "\u001b[2J\u001b[HCONTAINER ID   NAME              CPU %     MEM USAGE / LIMIT   MEM %     NET I/O   BLOCK I/O   PIDS\n",
      "b90dfb638d76   objective_mayer   0.00%     0B / 0B             0.00%     0B / 0B   0B / 0B     0\n",
      "\u001b[2J\u001b[HCONTAINER ID   NAME              CPU %     MEM USAGE / LIMIT   MEM %     NET I/O   BLOCK I/O   PIDS\n",
      "b90dfb638d76   objective_mayer   0.00%     0B / 0B             0.00%     0B / 0B   0B / 0B     0\n",
      "\u001b[2J\u001b[HCONTAINER ID   NAME              CPU %     MEM USAGE / LIMIT   MEM %     NET I/O   BLOCK I/O   PIDS\n",
      "b90dfb638d76   objective_mayer   0.00%     0B / 0B             0.00%     0B / 0B   0B / 0B     0\n",
      "\u001b[2J\u001b[HCONTAINER ID   NAME              CPU %     MEM USAGE / LIMIT   MEM %     NET I/O   BLOCK I/O   PIDS\n",
      "b90dfb638d76   objective_mayer   0.00%     0B / 0B             0.00%     0B / 0B   0B / 0B     0\n",
      "\u001b[2J\u001b[HCONTAINER ID   NAME              CPU %     MEM USAGE / LIMIT   MEM %     NET I/O   BLOCK I/O   PIDS\n",
      "b90dfb638d76   objective_mayer   0.00%     0B / 0B             0.00%     0B / 0B   0B / 0B     0\n",
      "\u001b[2J\u001b[HCONTAINER ID   NAME              CPU %     MEM USAGE / LIMIT   MEM %     NET I/O   BLOCK I/O   PIDS\n",
      "b90dfb638d76   objective_mayer   0.00%     0B / 0B             0.00%     0B / 0B   0B / 0B     0\n",
      "\u001b[2J\u001b[HCONTAINER ID   NAME              CPU %     MEM USAGE / LIMIT   MEM %     NET I/O   BLOCK I/O   PIDS\n",
      "b90dfb638d76   objective_mayer   0.00%     0B / 0B             0.00%     0B / 0B   0B / 0B     0\n",
      "\u001b[2J\u001b[HCONTAINER ID   NAME              CPU %     MEM USAGE / LIMIT   MEM %     NET I/O   BLOCK I/O   PIDS\n",
      "b90dfb638d76   objective_mayer   0.00%     0B / 0B             0.00%     0B / 0B   0B / 0B     0\n",
      "\u001b[2J\u001b[HCONTAINER ID   NAME              CPU %     MEM USAGE / LIMIT   MEM %     NET I/O   BLOCK I/O   PIDS\n",
      "b90dfb638d76   objective_mayer   0.00%     0B / 0B             0.00%     0B / 0B   0B / 0B     0\n",
      "\u001b[2J\u001b[HCONTAINER ID   NAME              CPU %     MEM USAGE / LIMIT   MEM %     NET I/O   BLOCK I/O   PIDS\n",
      "b90dfb638d76   objective_mayer   0.00%     0B / 0B             0.00%     0B / 0B   0B / 0B     0\n",
      "\u001b[2J\u001b[HCONTAINER ID   NAME              CPU %     MEM USAGE / LIMIT   MEM %     NET I/O   BLOCK I/O   PIDS\n",
      "b90dfb638d76   objective_mayer   0.00%     0B / 0B             0.00%     0B / 0B   0B / 0B     0\n",
      "\u001b[2J\u001b[HCONTAINER ID   NAME              CPU %     MEM USAGE / LIMIT   MEM %     NET I/O   BLOCK I/O   PIDS\n",
      "b90dfb638d76   objective_mayer   0.00%     0B / 0B             0.00%     0B / 0B   0B / 0B     0\n",
      "\u001b[2J\u001b[HCONTAINER ID   NAME              CPU %     MEM USAGE / LIMIT   MEM %     NET I/O   BLOCK I/O   PIDS\n",
      "b90dfb638d76   objective_mayer   0.00%     0B / 0B             0.00%     0B / 0B   0B / 0B     0\n",
      "\u001b[2J\u001b[HCONTAINER ID   NAME              CPU %     MEM USAGE / LIMIT   MEM %     NET I/O   BLOCK I/O   PIDS\n",
      "b90dfb638d76   objective_mayer   0.00%     0B / 0B             0.00%     0B / 0B   0B / 0B     0\n",
      "\u001b[2J\u001b[HCONTAINER ID   NAME              CPU %     MEM USAGE / LIMIT   MEM %     NET I/O   BLOCK I/O   PIDS\n",
      "b90dfb638d76   objective_mayer   0.00%     0B / 0B             0.00%     0B / 0B   0B / 0B     0\n",
      "\u001b[2J\u001b[HCONTAINER ID   NAME              CPU %     MEM USAGE / LIMIT   MEM %     NET I/O   BLOCK I/O   PIDS\n",
      "b90dfb638d76   objective_mayer   0.00%     0B / 0B             0.00%     0B / 0B   0B / 0B     0\n",
      "^C\n"
     ]
    }
   ],
   "source": [
    "!docker stats b9"
   ]
  },
  {
   "cell_type": "code",
   "execution_count": 6,
   "metadata": {},
   "outputs": [
    {
     "name": "stdout",
     "output_type": "stream",
     "text": [
      "\u001b[2J\u001b[HCONTAINER ID   NAME      CPU %     MEM USAGE / LIMIT   MEM %     NET I/O   BLOCK I/O   PIDS\n",
      "\u001b[2J\u001b[HCONTAINER ID   NAME      CPU %     MEM USAGE / LIMIT   MEM %     NET I/O   BLOCK I/O   PIDS\n",
      "\u001b[2J\u001b[HCONTAINER ID   NAME      CPU %     MEM USAGE / LIMIT   MEM %     NET I/O   BLOCK I/O   PIDS\n",
      "\u001b[2J\u001b[HCONTAINER ID   NAME      CPU %     MEM USAGE / LIMIT   MEM %     NET I/O   BLOCK I/O   PIDS\n",
      "\u001b[2J\u001b[HCONTAINER ID   NAME      CPU %     MEM USAGE / LIMIT   MEM %     NET I/O   BLOCK I/O   PIDS\n",
      "\u001b[2J\u001b[HCONTAINER ID   NAME      CPU %     MEM USAGE / LIMIT   MEM %     NET I/O   BLOCK I/O   PIDS\n",
      "\u001b[2J\u001b[HCONTAINER ID   NAME      CPU %     MEM USAGE / LIMIT   MEM %     NET I/O   BLOCK I/O   PIDS\n",
      "^C\n"
     ]
    }
   ],
   "source": [
    "!docker stats"
   ]
  },
  {
   "cell_type": "code",
   "execution_count": null,
   "metadata": {},
   "outputs": [],
   "source": []
  }
 ],
 "metadata": {
  "kernelspec": {
   "display_name": "base",
   "language": "python",
   "name": "python3"
  },
  "language_info": {
   "codemirror_mode": {
    "name": "ipython",
    "version": 3
   },
   "file_extension": ".py",
   "mimetype": "text/x-python",
   "name": "python",
   "nbconvert_exporter": "python",
   "pygments_lexer": "ipython3",
   "version": "3.9.13"
  },
  "orig_nbformat": 4
 },
 "nbformat": 4,
 "nbformat_minor": 2
}
