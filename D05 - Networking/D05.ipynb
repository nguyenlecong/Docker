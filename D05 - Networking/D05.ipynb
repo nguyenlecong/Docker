{
 "cells": [
  {
   "cell_type": "code",
   "execution_count": 2,
   "metadata": {},
   "outputs": [
    {
     "name": "stdout",
     "output_type": "stream",
     "text": [
      "Using default tag: latest\n",
      "latest: Pulling from library/busybox\n",
      "\n",
      "\u001b[1Bf584bb4f: Pull complete 592MB/2.592MBB\u001b[1A\u001b[2K\u001b[1A\u001b[2K\u001b[1A\u001b[2K\u001b[1A\u001b[2K\u001b[1A\u001b[2K\u001b[1A\u001b[2K\u001b[1A\u001b[2KDigest: sha256:b5d6fe0712636ceb7430189de28819e195e8966372edfc2d9409d79402a0dc16\n",
      "Status: Downloaded newer image for busybox:latest\n",
      "docker.io/library/busybox:latest\n"
     ]
    }
   ],
   "source": [
    "!docker pull busybox"
   ]
  },
  {
   "cell_type": "code",
   "execution_count": 3,
   "metadata": {},
   "outputs": [
    {
     "name": "stdout",
     "output_type": "stream",
     "text": [
      "REPOSITORY   TAG       IMAGE ID       CREATED             SIZE\n",
      "ubuntu       v2        b49d7a0ddb93   About an hour ago   77.8MB\n",
      "busybox      latest    7cfbbec8963d   4 weeks ago         4.86MB\n",
      "ubuntu       latest    08d22c0ceb15   5 weeks ago         77.8MB\n"
     ]
    }
   ],
   "source": [
    "!docker images"
   ]
  },
  {
   "cell_type": "code",
   "execution_count": 6,
   "metadata": {},
   "outputs": [],
   "source": [
    "!docker run -it --rm busybox # auto delete container after exit"
   ]
  },
  {
   "attachments": {},
   "cell_type": "markdown",
   "metadata": {},
   "source": [
    "<b> List network"
   ]
  },
  {
   "cell_type": "code",
   "execution_count": 7,
   "metadata": {},
   "outputs": [
    {
     "name": "stdout",
     "output_type": "stream",
     "text": [
      "NETWORK ID     NAME      DRIVER    SCOPE\n",
      "74d748c69593   bridge    bridge    local\n",
      "dbc5ffc40741   host      host      local\n",
      "7c7c98726ec1   none      null      local\n"
     ]
    }
   ],
   "source": [
    "!docker network ls"
   ]
  },
  {
   "cell_type": "code",
   "execution_count": 8,
   "metadata": {},
   "outputs": [
    {
     "name": "stdout",
     "output_type": "stream",
     "text": [
      "[\n",
      "    {\n",
      "        \"Name\": \"bridge\",\n",
      "        \"Id\": \"74d748c6959354875e8e256a43055c4169503e8b12e4a62a4e57785e8dfe8081\",\n",
      "        \"Created\": \"2023-04-14T14:02:15.061860979+07:00\",\n",
      "        \"Scope\": \"local\",\n",
      "        \"Driver\": \"bridge\",\n",
      "        \"EnableIPv6\": false,\n",
      "        \"IPAM\": {\n",
      "            \"Driver\": \"default\",\n",
      "            \"Options\": null,\n",
      "            \"Config\": [\n",
      "                {\n",
      "                    \"Subnet\": \"172.17.0.0/16\",\n",
      "                    \"Gateway\": \"172.17.0.1\"\n",
      "                }\n",
      "            ]\n",
      "        },\n",
      "        \"Internal\": false,\n",
      "        \"Attachable\": false,\n",
      "        \"Ingress\": false,\n",
      "        \"ConfigFrom\": {\n",
      "            \"Network\": \"\"\n",
      "        },\n",
      "        \"ConfigOnly\": false,\n",
      "        \"Containers\": {},\n",
      "        \"Options\": {\n",
      "            \"com.docker.network.bridge.default_bridge\": \"true\",\n",
      "            \"com.docker.network.bridge.enable_icc\": \"true\",\n",
      "            \"com.docker.network.bridge.enable_ip_masquerade\": \"true\",\n",
      "            \"com.docker.network.bridge.host_binding_ipv4\": \"0.0.0.0\",\n",
      "            \"com.docker.network.bridge.name\": \"docker0\",\n",
      "            \"com.docker.network.driver.mtu\": \"1500\"\n",
      "        },\n",
      "        \"Labels\": {}\n",
      "    }\n",
      "]\n"
     ]
    }
   ],
   "source": [
    "!docker network inspect bridge"
   ]
  },
  {
   "cell_type": "code",
   "execution_count": 9,
   "metadata": {},
   "outputs": [],
   "source": [
    "!docker run -it --name B1 busybox"
   ]
  },
  {
   "cell_type": "code",
   "execution_count": 10,
   "metadata": {},
   "outputs": [
    {
     "name": "stdout",
     "output_type": "stream",
     "text": [
      "CONTAINER ID   IMAGE     COMMAND   CREATED         STATUS                     PORTS     NAMES\n",
      "27d8adcd2953   busybox   \"sh\"      7 seconds ago   Exited (0) 5 seconds ago             B1\n"
     ]
    }
   ],
   "source": [
    "!docker ps -a"
   ]
  },
  {
   "cell_type": "code",
   "execution_count": 12,
   "metadata": {},
   "outputs": [
    {
     "name": "stdout",
     "output_type": "stream",
     "text": [
      "[\n",
      "    {\n",
      "        \"Name\": \"bridge\",\n",
      "        \"Id\": \"74d748c6959354875e8e256a43055c4169503e8b12e4a62a4e57785e8dfe8081\",\n",
      "        \"Created\": \"2023-04-14T14:02:15.061860979+07:00\",\n",
      "        \"Scope\": \"local\",\n",
      "        \"Driver\": \"bridge\",\n",
      "        \"EnableIPv6\": false,\n",
      "        \"IPAM\": {\n",
      "            \"Driver\": \"default\",\n",
      "            \"Options\": null,\n",
      "            \"Config\": [\n",
      "                {\n",
      "                    \"Subnet\": \"172.17.0.0/16\",\n",
      "                    \"Gateway\": \"172.17.0.1\"\n",
      "                }\n",
      "            ]\n",
      "        },\n",
      "        \"Internal\": false,\n",
      "        \"Attachable\": false,\n",
      "        \"Ingress\": false,\n",
      "        \"ConfigFrom\": {\n",
      "            \"Network\": \"\"\n",
      "        },\n",
      "        \"ConfigOnly\": false,\n",
      "        \"Containers\": {\n",
      "            \"3563a3edb367b74a48aea2e94faa5678988026dcf6d28fcb6c33a84e7b4edcf2\": {\n",
      "                \"Name\": \"B1\",\n",
      "                \"EndpointID\": \"ddafef276d805fa551dfb63f8c3058649546e0541f9623b235be7bf8b8c82123\",\n",
      "                \"MacAddress\": \"02:42:ac:11:00:02\",\n",
      "                \"IPv4Address\": \"172.17.0.2/16\",\n",
      "                \"IPv6Address\": \"\"\n",
      "            }\n",
      "        },\n",
      "        \"Options\": {\n",
      "            \"com.docker.network.bridge.default_bridge\": \"true\",\n",
      "            \"com.docker.network.bridge.enable_icc\": \"true\",\n",
      "            \"com.docker.network.bridge.enable_ip_masquerade\": \"true\",\n",
      "            \"com.docker.network.bridge.host_binding_ipv4\": \"0.0.0.0\",\n",
      "            \"com.docker.network.bridge.name\": \"docker0\",\n",
      "            \"com.docker.network.driver.mtu\": \"1500\"\n",
      "        },\n",
      "        \"Labels\": {}\n",
      "    }\n",
      "]\n"
     ]
    }
   ],
   "source": [
    "!docker network inspect bridge"
   ]
  },
  {
   "cell_type": "code",
   "execution_count": 13,
   "metadata": {},
   "outputs": [
    {
     "name": "stdout",
     "output_type": "stream",
     "text": [
      "[\n",
      "    {\n",
      "        \"Id\": \"3563a3edb367b74a48aea2e94faa5678988026dcf6d28fcb6c33a84e7b4edcf2\",\n",
      "        \"Created\": \"2023-04-14T09:02:07.353081305Z\",\n",
      "        \"Path\": \"sh\",\n",
      "        \"Args\": [],\n",
      "        \"State\": {\n",
      "            \"Status\": \"running\",\n",
      "            \"Running\": true,\n",
      "            \"Paused\": false,\n",
      "            \"Restarting\": false,\n",
      "            \"OOMKilled\": false,\n",
      "            \"Dead\": false,\n",
      "            \"Pid\": 27319,\n",
      "            \"ExitCode\": 0,\n",
      "            \"Error\": \"\",\n",
      "            \"StartedAt\": \"2023-04-14T09:02:08.846429741Z\",\n",
      "            \"FinishedAt\": \"0001-01-01T00:00:00Z\"\n",
      "        },\n",
      "        \"Image\": \"sha256:7cfbbec8963d8f13e6c70416d6592e1cc10f47a348131290a55d43c3acab3fb9\",\n",
      "        \"ResolvConfPath\": \"/var/lib/docker/containers/3563a3edb367b74a48aea2e94faa5678988026dcf6d28fcb6c33a84e7b4edcf2/resolv.conf\",\n",
      "        \"HostnamePath\": \"/var/lib/docker/containers/3563a3edb367b74a48aea2e94faa5678988026dcf6d28fcb6c33a84e7b4edcf2/hostname\",\n",
      "        \"HostsPath\": \"/var/lib/docker/containers/3563a3edb367b74a48aea2e94faa5678988026dcf6d28fcb6c33a84e7b4edcf2/hosts\",\n",
      "        \"LogPath\": \"/var/lib/docker/containers/3563a3edb367b74a48aea2e94faa5678988026dcf6d28fcb6c33a84e7b4edcf2/3563a3edb367b74a48aea2e94faa5678988026dcf6d28fcb6c33a84e7b4edcf2-json.log\",\n",
      "        \"Name\": \"/B1\",\n",
      "        \"RestartCount\": 0,\n",
      "        \"Driver\": \"overlay2\",\n",
      "        \"Platform\": \"linux\",\n",
      "        \"MountLabel\": \"\",\n",
      "        \"ProcessLabel\": \"\",\n",
      "        \"AppArmorProfile\": \"docker-default\",\n",
      "        \"ExecIDs\": null,\n",
      "        \"HostConfig\": {\n",
      "            \"Binds\": null,\n",
      "            \"ContainerIDFile\": \"\",\n",
      "            \"LogConfig\": {\n",
      "                \"Type\": \"json-file\",\n",
      "                \"Config\": {}\n",
      "            },\n",
      "            \"NetworkMode\": \"default\",\n",
      "            \"PortBindings\": {},\n",
      "            \"RestartPolicy\": {\n",
      "                \"Name\": \"no\",\n",
      "                \"MaximumRetryCount\": 0\n",
      "            },\n",
      "            \"AutoRemove\": false,\n",
      "            \"VolumeDriver\": \"\",\n",
      "            \"VolumesFrom\": null,\n",
      "            \"ConsoleSize\": [\n",
      "                9,\n",
      "                105\n",
      "            ],\n",
      "            \"CapAdd\": null,\n",
      "            \"CapDrop\": null,\n",
      "            \"CgroupnsMode\": \"host\",\n",
      "            \"Dns\": [],\n",
      "            \"DnsOptions\": [],\n",
      "            \"DnsSearch\": [],\n",
      "            \"ExtraHosts\": null,\n",
      "            \"GroupAdd\": null,\n",
      "            \"IpcMode\": \"private\",\n",
      "            \"Cgroup\": \"\",\n",
      "            \"Links\": null,\n",
      "            \"OomScoreAdj\": 0,\n",
      "            \"PidMode\": \"\",\n",
      "            \"Privileged\": false,\n",
      "            \"PublishAllPorts\": false,\n",
      "            \"ReadonlyRootfs\": false,\n",
      "            \"SecurityOpt\": null,\n",
      "            \"UTSMode\": \"\",\n",
      "            \"UsernsMode\": \"\",\n",
      "            \"ShmSize\": 67108864,\n",
      "            \"Runtime\": \"runc\",\n",
      "            \"Isolation\": \"\",\n",
      "            \"CpuShares\": 0,\n",
      "            \"Memory\": 0,\n",
      "            \"NanoCpus\": 0,\n",
      "            \"CgroupParent\": \"\",\n",
      "            \"BlkioWeight\": 0,\n",
      "            \"BlkioWeightDevice\": [],\n",
      "            \"BlkioDeviceReadBps\": [],\n",
      "            \"BlkioDeviceWriteBps\": [],\n",
      "            \"BlkioDeviceReadIOps\": [],\n",
      "            \"BlkioDeviceWriteIOps\": [],\n",
      "            \"CpuPeriod\": 0,\n",
      "            \"CpuQuota\": 0,\n",
      "            \"CpuRealtimePeriod\": 0,\n",
      "            \"CpuRealtimeRuntime\": 0,\n",
      "            \"CpusetCpus\": \"\",\n",
      "            \"CpusetMems\": \"\",\n",
      "            \"Devices\": [],\n",
      "            \"DeviceCgroupRules\": null,\n",
      "            \"DeviceRequests\": null,\n",
      "            \"MemoryReservation\": 0,\n",
      "            \"MemorySwap\": 0,\n",
      "            \"MemorySwappiness\": null,\n",
      "            \"OomKillDisable\": false,\n",
      "            \"PidsLimit\": null,\n",
      "            \"Ulimits\": null,\n",
      "            \"CpuCount\": 0,\n",
      "            \"CpuPercent\": 0,\n",
      "            \"IOMaximumIOps\": 0,\n",
      "            \"IOMaximumBandwidth\": 0,\n",
      "            \"MaskedPaths\": [\n",
      "                \"/proc/asound\",\n",
      "                \"/proc/acpi\",\n",
      "                \"/proc/kcore\",\n",
      "                \"/proc/keys\",\n",
      "                \"/proc/latency_stats\",\n",
      "                \"/proc/timer_list\",\n",
      "                \"/proc/timer_stats\",\n",
      "                \"/proc/sched_debug\",\n",
      "                \"/proc/scsi\",\n",
      "                \"/sys/firmware\"\n",
      "            ],\n",
      "            \"ReadonlyPaths\": [\n",
      "                \"/proc/bus\",\n",
      "                \"/proc/fs\",\n",
      "                \"/proc/irq\",\n",
      "                \"/proc/sys\",\n",
      "                \"/proc/sysrq-trigger\"\n",
      "            ]\n",
      "        },\n",
      "        \"GraphDriver\": {\n",
      "            \"Data\": {\n",
      "                \"LowerDir\": \"/var/lib/docker/overlay2/0bd5553072c13681951ea64e63cd74b4e2425bafd321e77a88261ed661197ff1-init/diff:/var/lib/docker/overlay2/d265bb2acb66b6793b11ebffba4e2ef4f7550ae65b2f6370809faa3450fa3ab0/diff\",\n",
      "                \"MergedDir\": \"/var/lib/docker/overlay2/0bd5553072c13681951ea64e63cd74b4e2425bafd321e77a88261ed661197ff1/merged\",\n",
      "                \"UpperDir\": \"/var/lib/docker/overlay2/0bd5553072c13681951ea64e63cd74b4e2425bafd321e77a88261ed661197ff1/diff\",\n",
      "                \"WorkDir\": \"/var/lib/docker/overlay2/0bd5553072c13681951ea64e63cd74b4e2425bafd321e77a88261ed661197ff1/work\"\n",
      "            },\n",
      "            \"Name\": \"overlay2\"\n",
      "        },\n",
      "        \"Mounts\": [],\n",
      "        \"Config\": {\n",
      "            \"Hostname\": \"3563a3edb367\",\n",
      "            \"Domainname\": \"\",\n",
      "            \"User\": \"\",\n",
      "            \"AttachStdin\": true,\n",
      "            \"AttachStdout\": true,\n",
      "            \"AttachStderr\": true,\n",
      "            \"Tty\": true,\n",
      "            \"OpenStdin\": true,\n",
      "            \"StdinOnce\": true,\n",
      "            \"Env\": [\n",
      "                \"PATH=/usr/local/sbin:/usr/local/bin:/usr/sbin:/usr/bin:/sbin:/bin\"\n",
      "            ],\n",
      "            \"Cmd\": [\n",
      "                \"sh\"\n",
      "            ],\n",
      "            \"Image\": \"busybox\",\n",
      "            \"Volumes\": null,\n",
      "            \"WorkingDir\": \"\",\n",
      "            \"Entrypoint\": null,\n",
      "            \"OnBuild\": null,\n",
      "            \"Labels\": {}\n",
      "        },\n",
      "        \"NetworkSettings\": {\n",
      "            \"Bridge\": \"\",\n",
      "            \"SandboxID\": \"ac4a15856b50ca85801178fe0a0e5ffd1000f522057095c8afa42e14a8f34bfa\",\n",
      "            \"HairpinMode\": false,\n",
      "            \"LinkLocalIPv6Address\": \"\",\n",
      "            \"LinkLocalIPv6PrefixLen\": 0,\n",
      "            \"Ports\": {},\n",
      "            \"SandboxKey\": \"/var/run/docker/netns/ac4a15856b50\",\n",
      "            \"SecondaryIPAddresses\": null,\n",
      "            \"SecondaryIPv6Addresses\": null,\n",
      "            \"EndpointID\": \"ddafef276d805fa551dfb63f8c3058649546e0541f9623b235be7bf8b8c82123\",\n",
      "            \"Gateway\": \"172.17.0.1\",\n",
      "            \"GlobalIPv6Address\": \"\",\n",
      "            \"GlobalIPv6PrefixLen\": 0,\n",
      "            \"IPAddress\": \"172.17.0.2\",\n",
      "            \"IPPrefixLen\": 16,\n",
      "            \"IPv6Gateway\": \"\",\n",
      "            \"MacAddress\": \"02:42:ac:11:00:02\",\n",
      "            \"Networks\": {\n",
      "                \"bridge\": {\n",
      "                    \"IPAMConfig\": null,\n",
      "                    \"Links\": null,\n",
      "                    \"Aliases\": null,\n",
      "                    \"NetworkID\": \"74d748c6959354875e8e256a43055c4169503e8b12e4a62a4e57785e8dfe8081\",\n",
      "                    \"EndpointID\": \"ddafef276d805fa551dfb63f8c3058649546e0541f9623b235be7bf8b8c82123\",\n",
      "                    \"Gateway\": \"172.17.0.1\",\n",
      "                    \"IPAddress\": \"172.17.0.2\",\n",
      "                    \"IPPrefixLen\": 16,\n",
      "                    \"IPv6Gateway\": \"\",\n",
      "                    \"GlobalIPv6Address\": \"\",\n",
      "                    \"GlobalIPv6PrefixLen\": 0,\n",
      "                    \"MacAddress\": \"02:42:ac:11:00:02\",\n",
      "                    \"DriverOpts\": null\n",
      "                }\n",
      "            }\n",
      "        }\n",
      "    }\n",
      "]\n"
     ]
    }
   ],
   "source": [
    "!docker inspect B1"
   ]
  },
  {
   "cell_type": "code",
   "execution_count": 9,
   "metadata": {},
   "outputs": [
    {
     "name": "stdout",
     "output_type": "stream",
     "text": [
      "[\n",
      "    {\n",
      "        \"Name\": \"bridge\",\n",
      "        \"Id\": \"74d748c6959354875e8e256a43055c4169503e8b12e4a62a4e57785e8dfe8081\",\n",
      "        \"Created\": \"2023-04-14T14:02:15.061860979+07:00\",\n",
      "        \"Scope\": \"local\",\n",
      "        \"Driver\": \"bridge\",\n",
      "        \"EnableIPv6\": false,\n",
      "        \"IPAM\": {\n",
      "            \"Driver\": \"default\",\n",
      "            \"Options\": null,\n",
      "            \"Config\": [\n",
      "                {\n",
      "                    \"Subnet\": \"172.17.0.0/16\",\n",
      "                    \"Gateway\": \"172.17.0.1\"\n",
      "                }\n",
      "            ]\n",
      "        },\n",
      "        \"Internal\": false,\n",
      "        \"Attachable\": false,\n",
      "        \"Ingress\": false,\n",
      "        \"ConfigFrom\": {\n",
      "            \"Network\": \"\"\n",
      "        },\n",
      "        \"ConfigOnly\": false,\n",
      "        \"Containers\": {\n",
      "            \"67bc22591ce61aa7bce706554dd4ceca9317a6d0d35a59e0267bf33a724de576\": {\n",
      "                \"Name\": \"B2\",\n",
      "                \"EndpointID\": \"c3a0e2457b27255aba43808d79be7d631528f333d4fd4e35a5e203a12b8ced70\",\n",
      "                \"MacAddress\": \"02:42:ac:11:00:02\",\n",
      "                \"IPv4Address\": \"172.17.0.2/16\",\n",
      "                \"IPv6Address\": \"\"\n",
      "            },\n",
      "            \"b71ce2be0be9b71d29c7a5d94f3afec6fc7f19bdbbfdd2d82b27c20e0382c175\": {\n",
      "                \"Name\": \"B1\",\n",
      "                \"EndpointID\": \"b9e49c6717d1cbcd5f30c1b547d165e51f753bb855412e094934563faef295ee\",\n",
      "                \"MacAddress\": \"02:42:ac:11:00:03\",\n",
      "                \"IPv4Address\": \"172.17.0.3/16\",\n",
      "                \"IPv6Address\": \"\"\n",
      "            }\n",
      "        },\n",
      "        \"Options\": {\n",
      "            \"com.docker.network.bridge.default_bridge\": \"true\",\n",
      "            \"com.docker.network.bridge.enable_icc\": \"true\",\n",
      "            \"com.docker.network.bridge.enable_ip_masquerade\": \"true\",\n",
      "            \"com.docker.network.bridge.host_binding_ipv4\": \"0.0.0.0\",\n",
      "            \"com.docker.network.bridge.name\": \"docker0\",\n",
      "            \"com.docker.network.driver.mtu\": \"1500\"\n",
      "        },\n",
      "        \"Labels\": {}\n",
      "    }\n",
      "]\n"
     ]
    }
   ],
   "source": [
    "!docker network inspect bridge"
   ]
  },
  {
   "cell_type": "code",
   "execution_count": null,
   "metadata": {},
   "outputs": [],
   "source": [
    "!docker run -i --name B2 -p 8888:80 busybox"
   ]
  },
  {
   "cell_type": "code",
   "execution_count": 16,
   "metadata": {},
   "outputs": [
    {
     "name": "stdout",
     "output_type": "stream",
     "text": [
      "CONTAINER ID   IMAGE     COMMAND   CREATED              STATUS          PORTS                                   NAMES\n",
      "67bc22591ce6   busybox   \"sh\"      22 seconds ago       Up 19 seconds   0.0.0.0:8888->80/tcp, :::8888->80/tcp   B2\n",
      "b71ce2be0be9   busybox   \"sh\"      About a minute ago   Up 59 seconds                                           B1\n"
     ]
    }
   ],
   "source": [
    "!docker ps -a"
   ]
  },
  {
   "cell_type": "code",
   "execution_count": null,
   "metadata": {},
   "outputs": [],
   "source": [
    "# open browser and open\n",
    "127.0.0.1:8888"
   ]
  },
  {
   "attachments": {},
   "cell_type": "markdown",
   "metadata": {},
   "source": [
    "<b> Tao, xoa mang"
   ]
  },
  {
   "cell_type": "code",
   "execution_count": 17,
   "metadata": {},
   "outputs": [
    {
     "name": "stdout",
     "output_type": "stream",
     "text": [
      "8fe94a25d6bb76d4b6c572a22f81d800fe7339d00d0b1a448acb5b0698a9f06e\n"
     ]
    }
   ],
   "source": [
    "!docker network create --driver bridge network1"
   ]
  },
  {
   "cell_type": "code",
   "execution_count": 18,
   "metadata": {},
   "outputs": [
    {
     "name": "stdout",
     "output_type": "stream",
     "text": [
      "NETWORK ID     NAME       DRIVER    SCOPE\n",
      "74d748c69593   bridge     bridge    local\n",
      "dbc5ffc40741   host       host      local\n",
      "8fe94a25d6bb   network1   bridge    local\n",
      "7c7c98726ec1   none       null      local\n"
     ]
    }
   ],
   "source": [
    "!docker network ls"
   ]
  },
  {
   "cell_type": "code",
   "execution_count": 19,
   "metadata": {},
   "outputs": [
    {
     "name": "stdout",
     "output_type": "stream",
     "text": [
      "3b8cd3952397d15c66add9746e7cdf76019f437d0a068318813c5a47ca52740f\n"
     ]
    }
   ],
   "source": [
    "!docker network create mynetwork"
   ]
  },
  {
   "cell_type": "code",
   "execution_count": 20,
   "metadata": {},
   "outputs": [
    {
     "name": "stdout",
     "output_type": "stream",
     "text": [
      "NETWORK ID     NAME        DRIVER    SCOPE\n",
      "74d748c69593   bridge      bridge    local\n",
      "dbc5ffc40741   host        host      local\n",
      "3b8cd3952397   mynetwork   bridge    local\n",
      "8fe94a25d6bb   network1    bridge    local\n",
      "7c7c98726ec1   none        null      local\n"
     ]
    }
   ],
   "source": [
    "!docker network ls"
   ]
  },
  {
   "cell_type": "code",
   "execution_count": 21,
   "metadata": {},
   "outputs": [
    {
     "name": "stdout",
     "output_type": "stream",
     "text": [
      "network1\n"
     ]
    }
   ],
   "source": [
    "!docker network rm network1"
   ]
  },
  {
   "cell_type": "code",
   "execution_count": 22,
   "metadata": {},
   "outputs": [
    {
     "name": "stdout",
     "output_type": "stream",
     "text": [
      "NETWORK ID     NAME        DRIVER    SCOPE\n",
      "74d748c69593   bridge      bridge    local\n",
      "dbc5ffc40741   host        host      local\n",
      "3b8cd3952397   mynetwork   bridge    local\n",
      "7c7c98726ec1   none        null      local\n"
     ]
    }
   ],
   "source": [
    "!docker network ls"
   ]
  },
  {
   "cell_type": "code",
   "execution_count": null,
   "metadata": {},
   "outputs": [],
   "source": [
    "!docker run -it --name B3 --network mynetwork busybox"
   ]
  },
  {
   "cell_type": "code",
   "execution_count": 1,
   "metadata": {},
   "outputs": [
    {
     "name": "stdout",
     "output_type": "stream",
     "text": [
      "[\n",
      "    {\n",
      "        \"Name\": \"mynetwork\",\n",
      "        \"Id\": \"3b8cd3952397d15c66add9746e7cdf76019f437d0a068318813c5a47ca52740f\",\n",
      "        \"Created\": \"2023-04-14T16:28:29.156606777+07:00\",\n",
      "        \"Scope\": \"local\",\n",
      "        \"Driver\": \"bridge\",\n",
      "        \"EnableIPv6\": false,\n",
      "        \"IPAM\": {\n",
      "            \"Driver\": \"default\",\n",
      "            \"Options\": {},\n",
      "            \"Config\": [\n",
      "                {\n",
      "                    \"Subnet\": \"172.19.0.0/16\",\n",
      "                    \"Gateway\": \"172.19.0.1\"\n",
      "                }\n",
      "            ]\n",
      "        },\n",
      "        \"Internal\": false,\n",
      "        \"Attachable\": false,\n",
      "        \"Ingress\": false,\n",
      "        \"ConfigFrom\": {\n",
      "            \"Network\": \"\"\n",
      "        },\n",
      "        \"ConfigOnly\": false,\n",
      "        \"Containers\": {\n",
      "            \"0a7cc405c61469112fb3963a6fb746ad5eb43e610352eedc95565c85cadaca5f\": {\n",
      "                \"Name\": \"B3\",\n",
      "                \"EndpointID\": \"54ce6b462a811caf38f2fcdd14b50a4779c90b041b262da9fffbf8c12bfc7535\",\n",
      "                \"MacAddress\": \"02:42:ac:13:00:02\",\n",
      "                \"IPv4Address\": \"172.19.0.2/16\",\n",
      "                \"IPv6Address\": \"\"\n",
      "            }\n",
      "        },\n",
      "        \"Options\": {},\n",
      "        \"Labels\": {}\n",
      "    }\n",
      "]\n"
     ]
    }
   ],
   "source": [
    "!docker network inspect mynetwork"
   ]
  },
  {
   "cell_type": "code",
   "execution_count": null,
   "metadata": {},
   "outputs": [],
   "source": [
    "!docker run -it --name B4 --network mynetwork -p 9999:80 busybox"
   ]
  },
  {
   "cell_type": "code",
   "execution_count": 8,
   "metadata": {},
   "outputs": [
    {
     "name": "stdout",
     "output_type": "stream",
     "text": [
      "[\n",
      "    {\n",
      "        \"Name\": \"mynetwork\",\n",
      "        \"Id\": \"3b8cd3952397d15c66add9746e7cdf76019f437d0a068318813c5a47ca52740f\",\n",
      "        \"Created\": \"2023-04-14T16:28:29.156606777+07:00\",\n",
      "        \"Scope\": \"local\",\n",
      "        \"Driver\": \"bridge\",\n",
      "        \"EnableIPv6\": false,\n",
      "        \"IPAM\": {\n",
      "            \"Driver\": \"default\",\n",
      "            \"Options\": {},\n",
      "            \"Config\": [\n",
      "                {\n",
      "                    \"Subnet\": \"172.19.0.0/16\",\n",
      "                    \"Gateway\": \"172.19.0.1\"\n",
      "                }\n",
      "            ]\n",
      "        },\n",
      "        \"Internal\": false,\n",
      "        \"Attachable\": false,\n",
      "        \"Ingress\": false,\n",
      "        \"ConfigFrom\": {\n",
      "            \"Network\": \"\"\n",
      "        },\n",
      "        \"ConfigOnly\": false,\n",
      "        \"Containers\": {\n",
      "            \"0a038cf1f6158ca09d350ca237bde4f7791dfc3b329fac6eaae2b0c8c3973e47\": {\n",
      "                \"Name\": \"B4\",\n",
      "                \"EndpointID\": \"15c4e0ffbb0ead7fce932a9b62635e633ef88fdce66c6ba5e65d0879ec704970\",\n",
      "                \"MacAddress\": \"02:42:ac:13:00:03\",\n",
      "                \"IPv4Address\": \"172.19.0.3/16\",\n",
      "                \"IPv6Address\": \"\"\n",
      "            },\n",
      "            \"0a7cc405c61469112fb3963a6fb746ad5eb43e610352eedc95565c85cadaca5f\": {\n",
      "                \"Name\": \"B3\",\n",
      "                \"EndpointID\": \"54ce6b462a811caf38f2fcdd14b50a4779c90b041b262da9fffbf8c12bfc7535\",\n",
      "                \"MacAddress\": \"02:42:ac:13:00:02\",\n",
      "                \"IPv4Address\": \"172.19.0.2/16\",\n",
      "                \"IPv6Address\": \"\"\n",
      "            }\n",
      "        },\n",
      "        \"Options\": {},\n",
      "        \"Labels\": {}\n",
      "    }\n",
      "]\n"
     ]
    }
   ],
   "source": [
    "!docker network inspect mynetwork"
   ]
  },
  {
   "cell_type": "code",
   "execution_count": 7,
   "metadata": {},
   "outputs": [
    {
     "name": "stdout",
     "output_type": "stream",
     "text": [
      "CONTAINER ID   IMAGE     COMMAND   CREATED          STATUS                      PORTS                                   NAMES\n",
      "0a038cf1f615   busybox   \"sh\"      3 minutes ago    Up About a minute           0.0.0.0:9999->80/tcp, :::9999->80/tcp   B4\n",
      "0a7cc405c614   busybox   \"sh\"      5 minutes ago    Up 5 minutes                                                        B3\n",
      "67bc22591ce6   busybox   \"sh\"      12 minutes ago   Exited (0) 8 minutes ago                                            B2\n",
      "b71ce2be0be9   busybox   \"sh\"      13 minutes ago   Exited (0) 11 minutes ago                                           B1\n"
     ]
    }
   ],
   "source": [
    "!docker ps -a"
   ]
  },
  {
   "cell_type": "code",
   "execution_count": null,
   "metadata": {},
   "outputs": [],
   "source": [
    "# open browser and open\n",
    "127.0.0.1:9999"
   ]
  },
  {
   "attachments": {},
   "cell_type": "markdown",
   "metadata": {},
   "source": [
    "<b> Gan network cho 1 container dang ton tai/dang chay"
   ]
  },
  {
   "cell_type": "code",
   "execution_count": 10,
   "metadata": {},
   "outputs": [],
   "source": [
    "!docker network connect bridge B3"
   ]
  },
  {
   "cell_type": "code",
   "execution_count": 11,
   "metadata": {},
   "outputs": [
    {
     "name": "stdout",
     "output_type": "stream",
     "text": [
      "[\n",
      "    {\n",
      "        \"Name\": \"bridge\",\n",
      "        \"Id\": \"74d748c6959354875e8e256a43055c4169503e8b12e4a62a4e57785e8dfe8081\",\n",
      "        \"Created\": \"2023-04-14T14:02:15.061860979+07:00\",\n",
      "        \"Scope\": \"local\",\n",
      "        \"Driver\": \"bridge\",\n",
      "        \"EnableIPv6\": false,\n",
      "        \"IPAM\": {\n",
      "            \"Driver\": \"default\",\n",
      "            \"Options\": null,\n",
      "            \"Config\": [\n",
      "                {\n",
      "                    \"Subnet\": \"172.17.0.0/16\",\n",
      "                    \"Gateway\": \"172.17.0.1\"\n",
      "                }\n",
      "            ]\n",
      "        },\n",
      "        \"Internal\": false,\n",
      "        \"Attachable\": false,\n",
      "        \"Ingress\": false,\n",
      "        \"ConfigFrom\": {\n",
      "            \"Network\": \"\"\n",
      "        },\n",
      "        \"ConfigOnly\": false,\n",
      "        \"Containers\": {\n",
      "            \"0a7cc405c61469112fb3963a6fb746ad5eb43e610352eedc95565c85cadaca5f\": {\n",
      "                \"Name\": \"B3\",\n",
      "                \"EndpointID\": \"6a7e50ca91fa0e1ab373f9c28482d1c221a784c495ea0af92232e4a952c243b3\",\n",
      "                \"MacAddress\": \"02:42:ac:11:00:04\",\n",
      "                \"IPv4Address\": \"172.17.0.4/16\",\n",
      "                \"IPv6Address\": \"\"\n",
      "            },\n",
      "            \"67bc22591ce61aa7bce706554dd4ceca9317a6d0d35a59e0267bf33a724de576\": {\n",
      "                \"Name\": \"B2\",\n",
      "                \"EndpointID\": \"c3a0e2457b27255aba43808d79be7d631528f333d4fd4e35a5e203a12b8ced70\",\n",
      "                \"MacAddress\": \"02:42:ac:11:00:02\",\n",
      "                \"IPv4Address\": \"172.17.0.2/16\",\n",
      "                \"IPv6Address\": \"\"\n",
      "            },\n",
      "            \"b71ce2be0be9b71d29c7a5d94f3afec6fc7f19bdbbfdd2d82b27c20e0382c175\": {\n",
      "                \"Name\": \"B1\",\n",
      "                \"EndpointID\": \"b9e49c6717d1cbcd5f30c1b547d165e51f753bb855412e094934563faef295ee\",\n",
      "                \"MacAddress\": \"02:42:ac:11:00:03\",\n",
      "                \"IPv4Address\": \"172.17.0.3/16\",\n",
      "                \"IPv6Address\": \"\"\n",
      "            }\n",
      "        },\n",
      "        \"Options\": {\n",
      "            \"com.docker.network.bridge.default_bridge\": \"true\",\n",
      "            \"com.docker.network.bridge.enable_icc\": \"true\",\n",
      "            \"com.docker.network.bridge.enable_ip_masquerade\": \"true\",\n",
      "            \"com.docker.network.bridge.host_binding_ipv4\": \"0.0.0.0\",\n",
      "            \"com.docker.network.bridge.name\": \"docker0\",\n",
      "            \"com.docker.network.driver.mtu\": \"1500\"\n",
      "        },\n",
      "        \"Labels\": {}\n",
      "    }\n",
      "]\n"
     ]
    }
   ],
   "source": [
    "!docker network inspect bridge"
   ]
  },
  {
   "cell_type": "code",
   "execution_count": 12,
   "metadata": {},
   "outputs": [
    {
     "name": "stdout",
     "output_type": "stream",
     "text": [
      "[\n",
      "    {\n",
      "        \"Name\": \"mynetwork\",\n",
      "        \"Id\": \"3b8cd3952397d15c66add9746e7cdf76019f437d0a068318813c5a47ca52740f\",\n",
      "        \"Created\": \"2023-04-14T16:28:29.156606777+07:00\",\n",
      "        \"Scope\": \"local\",\n",
      "        \"Driver\": \"bridge\",\n",
      "        \"EnableIPv6\": false,\n",
      "        \"IPAM\": {\n",
      "            \"Driver\": \"default\",\n",
      "            \"Options\": {},\n",
      "            \"Config\": [\n",
      "                {\n",
      "                    \"Subnet\": \"172.19.0.0/16\",\n",
      "                    \"Gateway\": \"172.19.0.1\"\n",
      "                }\n",
      "            ]\n",
      "        },\n",
      "        \"Internal\": false,\n",
      "        \"Attachable\": false,\n",
      "        \"Ingress\": false,\n",
      "        \"ConfigFrom\": {\n",
      "            \"Network\": \"\"\n",
      "        },\n",
      "        \"ConfigOnly\": false,\n",
      "        \"Containers\": {\n",
      "            \"0a038cf1f6158ca09d350ca237bde4f7791dfc3b329fac6eaae2b0c8c3973e47\": {\n",
      "                \"Name\": \"B4\",\n",
      "                \"EndpointID\": \"15c4e0ffbb0ead7fce932a9b62635e633ef88fdce66c6ba5e65d0879ec704970\",\n",
      "                \"MacAddress\": \"02:42:ac:13:00:03\",\n",
      "                \"IPv4Address\": \"172.19.0.3/16\",\n",
      "                \"IPv6Address\": \"\"\n",
      "            },\n",
      "            \"0a7cc405c61469112fb3963a6fb746ad5eb43e610352eedc95565c85cadaca5f\": {\n",
      "                \"Name\": \"B3\",\n",
      "                \"EndpointID\": \"54ce6b462a811caf38f2fcdd14b50a4779c90b041b262da9fffbf8c12bfc7535\",\n",
      "                \"MacAddress\": \"02:42:ac:13:00:02\",\n",
      "                \"IPv4Address\": \"172.19.0.2/16\",\n",
      "                \"IPv6Address\": \"\"\n",
      "            }\n",
      "        },\n",
      "        \"Options\": {},\n",
      "        \"Labels\": {}\n",
      "    }\n",
      "]\n"
     ]
    }
   ],
   "source": [
    "!docker network inspect mynetwork"
   ]
  },
  {
   "cell_type": "code",
   "execution_count": null,
   "metadata": {},
   "outputs": [],
   "source": [
    "#From B3\n",
    "!ping 172.17.0.3  # B2 or\n",
    "!ping B2"
   ]
  }
 ],
 "metadata": {
  "kernelspec": {
   "display_name": "base",
   "language": "python",
   "name": "python3"
  },
  "language_info": {
   "codemirror_mode": {
    "name": "ipython",
    "version": 3
   },
   "file_extension": ".py",
   "mimetype": "text/x-python",
   "name": "python",
   "nbconvert_exporter": "python",
   "pygments_lexer": "ipython3",
   "version": "3.9.13"
  },
  "orig_nbformat": 4
 },
 "nbformat": 4,
 "nbformat_minor": 2
}
