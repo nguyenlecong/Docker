{
 "cells": [
  {
   "attachments": {},
   "cell_type": "markdown",
   "metadata": {},
   "source": [
    "<b>Search image"
   ]
  },
  {
   "cell_type": "code",
   "execution_count": 3,
   "metadata": {},
   "outputs": [
    {
     "name": "stdout",
     "output_type": "stream",
     "text": [
      "NAME                             DESCRIPTION                                     STARS     OFFICIAL   AUTOMATED\n",
      "ubuntu                           Ubuntu is a Debian-based Linux operating sys…   15832     [OK]       \n",
      "websphere-liberty                WebSphere Liberty multi-architecture images …   293       [OK]       \n",
      "open-liberty                     Open Liberty multi-architecture images based…   59        [OK]       \n",
      "neurodebian                      NeuroDebian provides neuroscience research s…   99        [OK]       \n",
      "ubuntu-debootstrap               DEPRECATED; use \"ubuntu\" instead                50        [OK]       \n",
      "ubuntu-upstart                   DEPRECATED, as is Upstart (find other proces…   112       [OK]       \n",
      "ubuntu/nginx                     Nginx, a high-performance reverse proxy & we…   84                   \n",
      "ubuntu/cortex                    Cortex provides storage for Prometheus. Long…   3                    \n",
      "ubuntu/squid                     Squid is a caching proxy for the Web. Long-t…   54                   \n",
      "ubuntu/apache2                   Apache, a secure & extensible open-source HT…   57                   \n",
      "ubuntu/mysql                     MySQL open source fast, stable, multi-thread…   45                   \n",
      "ubuntu/kafka                     Apache Kafka, a distributed event streaming …   29                   \n",
      "ubuntu/bind9                     BIND 9 is a very flexible, full-featured DNS…   51                   \n",
      "ubuntu/redis                     Redis, an open source key-value store. Long-…   17                   \n",
      "ubuntu/prometheus                Prometheus is a systems and service monitori…   40                   \n",
      "ubuntu/postgres                  PostgreSQL is an open source object-relation…   27                   \n",
      "ubuntu/zookeeper                 ZooKeeper maintains configuration informatio…   5                    \n",
      "ubuntu/grafana                   Grafana, a feature rich metrics dashboard & …   9                    \n",
      "ubuntu/memcached                 Memcached, in-memory keyvalue store for smal…   5                    \n",
      "ubuntu/prometheus-alertmanager   Alertmanager handles client alerts from Prom…   8                    \n",
      "ubuntu/dotnet-deps               Chiselled Ubuntu for self-contained .NET & A…   7                    \n",
      "ubuntu/dotnet-runtime            Chiselled Ubuntu runtime image for .NET apps…   5                    \n",
      "ubuntu/cassandra                 Cassandra, an open source NoSQL distributed …   2                    \n",
      "ubuntu/dotnet-aspnet             Chiselled Ubuntu runtime image for ASP.NET a…   4                    \n",
      "ubuntu/telegraf                  Telegraf collects, processes, aggregates & w…   4                    \n"
     ]
    }
   ],
   "source": [
    "!docker search ubuntu"
   ]
  },
  {
   "attachments": {},
   "cell_type": "markdown",
   "metadata": {},
   "source": [
    "<b>List images"
   ]
  },
  {
   "cell_type": "code",
   "execution_count": 4,
   "metadata": {},
   "outputs": [
    {
     "name": "stdout",
     "output_type": "stream",
     "text": [
      "REPOSITORY   TAG       IMAGE ID       CREATED       SIZE\n",
      "ubuntu       latest    08d22c0ceb15   5 weeks ago   77.8MB\n"
     ]
    }
   ],
   "source": [
    "!docker images"
   ]
  },
  {
   "attachments": {},
   "cell_type": "markdown",
   "metadata": {},
   "source": [
    "<b> Pull image </b> <br>\n",
    "&emsp; <i>docker pull image:tag (latest == '')"
   ]
  },
  {
   "cell_type": "code",
   "execution_count": 5,
   "metadata": {},
   "outputs": [
    {
     "name": "stdout",
     "output_type": "stream",
     "text": [
      "16.04: Pulling from library/ubuntu\n",
      "\n",
      "\u001b[1B0f9b18fc: Pulling fs layer \n",
      "\u001b[1B69e7c507: Pulling fs layer \n",
      "\u001b[1Bf40b9eca: Pulling fs layer \n",
      "\u001b[1Bd46c38dc: Pull complete  170B/170BMBB2K\u001b[4A\u001b[2K\u001b[4A\u001b[2K\u001b[4A\u001b[2K\u001b[4A\u001b[2K\u001b[4A\u001b[2K\u001b[4A\u001b[2K\u001b[4A\u001b[2K\u001b[4A\u001b[2K\u001b[4A\u001b[2K\u001b[4A\u001b[2K\u001b[4A\u001b[2K\u001b[4A\u001b[2K\u001b[4A\u001b[2K\u001b[1A\u001b[2K\u001b[4A\u001b[2K\u001b[4A\u001b[2K\u001b[4A\u001b[2K\u001b[4A\u001b[2K\u001b[4A\u001b[2K\u001b[4A\u001b[2K\u001b[4A\u001b[2K\u001b[4A\u001b[2K\u001b[4A\u001b[2K\u001b[4A\u001b[2K\u001b[4A\u001b[2K\u001b[4A\u001b[2K\u001b[4A\u001b[2K\u001b[4A\u001b[2K\u001b[4A\u001b[2K\u001b[4A\u001b[2K\u001b[4A\u001b[2K\u001b[4A\u001b[2K\u001b[4A\u001b[2K\u001b[4A\u001b[2K\u001b[4A\u001b[2K\u001b[4A\u001b[2K\u001b[4A\u001b[2K\u001b[4A\u001b[2K\u001b[4A\u001b[2K\u001b[4A\u001b[2K\u001b[4A\u001b[2K\u001b[4A\u001b[2K\u001b[4A\u001b[2K\u001b[4A\u001b[2K\u001b[4A\u001b[2K\u001b[4A\u001b[2K\u001b[4A\u001b[2K\u001b[4A\u001b[2K\u001b[4A\u001b[2K\u001b[4A\u001b[2K\u001b[4A\u001b[2K\u001b[4A\u001b[2K\u001b[4A\u001b[2K\u001b[4A\u001b[2K\u001b[4A\u001b[2K\u001b[4A\u001b[2K\u001b[4A\u001b[2K\u001b[4A\u001b[2K\u001b[4A\u001b[2K\u001b[4A\u001b[2K\u001b[4A\u001b[2K\u001b[4A\u001b[2K\u001b[4A\u001b[2K\u001b[4A\u001b[2K\u001b[4A\u001b[2K\u001b[4A\u001b[2K\u001b[4A\u001b[2K\u001b[4A\u001b[2K\u001b[4A\u001b[2K\u001b[4A\u001b[2K\u001b[3A\u001b[2K\u001b[3A\u001b[2K\u001b[2A\u001b[2K\u001b[2A\u001b[2K\u001b[2A\u001b[2K\u001b[1A\u001b[2K\u001b[1A\u001b[2KDigest: sha256:1f1a2d56de1d604801a9671f301190704c25d604a416f59e03c04f5c6ffee0d6\n",
      "Status: Downloaded newer image for ubuntu:16.04\n",
      "docker.io/library/ubuntu:16.04\n"
     ]
    }
   ],
   "source": [
    "!docker pull ubuntu:16.04"
   ]
  },
  {
   "cell_type": "code",
   "execution_count": 6,
   "metadata": {},
   "outputs": [
    {
     "name": "stdout",
     "output_type": "stream",
     "text": [
      "REPOSITORY   TAG       IMAGE ID       CREATED         SIZE\n",
      "ubuntu       latest    08d22c0ceb15   5 weeks ago     77.8MB\n",
      "ubuntu       16.04     b6f507652425   19 months ago   135MB\n"
     ]
    }
   ],
   "source": [
    "!docker images"
   ]
  },
  {
   "attachments": {},
   "cell_type": "markdown",
   "metadata": {},
   "source": [
    "<b> Delete image </b> <br>\n",
    "&emsp; <i> docker image rm ubuntu:tag (id)"
   ]
  },
  {
   "cell_type": "code",
   "execution_count": 7,
   "metadata": {},
   "outputs": [
    {
     "name": "stdout",
     "output_type": "stream",
     "text": [
      "Untagged: ubuntu:16.04\n",
      "Untagged: ubuntu@sha256:1f1a2d56de1d604801a9671f301190704c25d604a416f59e03c04f5c6ffee0d6\n",
      "Deleted: sha256:b6f50765242581c887ff1acc2511fa2d885c52d8fb3ac8c4bba131fd86567f2e\n",
      "Deleted: sha256:0214f4b057d78b44fd12702828152f67c0ce115f9346acc63acdf997cab7e7c8\n",
      "Deleted: sha256:1b9d0485372c5562fa614d5b35766f6c442539bcee9825a6e90d1158c3299a61\n",
      "Deleted: sha256:3c0f34be6eb98057c607b9080237cce0be0b86f52d51ba620dc018a3d421baea\n",
      "Deleted: sha256:be96a3f634de79f523f07c7e4e0216c28af45eb5776e7a6238a2392f71e01069\n"
     ]
    }
   ],
   "source": [
    "!docker image rm ubuntu:16.04"
   ]
  },
  {
   "attachments": {},
   "cell_type": "markdown",
   "metadata": {},
   "source": [
    "<b> Docker run </b> <br>\n",
    "&emsp; <i>docker run thamso image(id) command thamsolenh"
   ]
  },
  {
   "cell_type": "code",
   "execution_count": 8,
   "metadata": {},
   "outputs": [
    {
     "name": "stdout",
     "output_type": "stream",
     "text": [
      "\u001b[?2004h\u001b]0;root@adbe0d5f6f9c: /\u0007root@adbe0d5f6f9c:/# ^C\u001b[?2004l\n",
      "\u001b[?2004l\n",
      "\u001b[?2004h\u001b]0;root@adbe0d5f6f9c: /\u0007root@adbe0d5f6f9c:/# "
     ]
    }
   ],
   "source": [
    "!docker run -it ubuntu:latest"
   ]
  },
  {
   "cell_type": "code",
   "execution_count": null,
   "metadata": {},
   "outputs": [],
   "source": [
    "# Exit and stop container\n",
    "!exit"
   ]
  },
  {
   "attachments": {},
   "cell_type": "markdown",
   "metadata": {},
   "source": [
    "<b>List containers "
   ]
  },
  {
   "cell_type": "code",
   "execution_count": 10,
   "metadata": {},
   "outputs": [
    {
     "name": "stdout",
     "output_type": "stream",
     "text": [
      "CONTAINER ID   IMAGE           COMMAND       CREATED          STATUS                            PORTS     NAMES\n",
      "adbe0d5f6f9c   ubuntu:latest   \"/bin/bash\"   2 minutes ago    Exited (129) About a minute ago             vibrant_hellman\n",
      "57164a22fc57   ubuntu:latest   \"/bin/bash\"   18 minutes ago   Exited (255) 16 minutes ago                 eager_jang\n"
     ]
    }
   ],
   "source": [
    "!docker ps -a"
   ]
  },
  {
   "attachments": {},
   "cell_type": "markdown",
   "metadata": {},
   "source": [
    "<b> Start container"
   ]
  },
  {
   "cell_type": "code",
   "execution_count": null,
   "metadata": {},
   "outputs": [],
   "source": [
    "!docker start adbe0d5f6f9c"
   ]
  },
  {
   "cell_type": "code",
   "execution_count": null,
   "metadata": {},
   "outputs": [],
   "source": [
    "!docker attach adbe0d5f6f9c"
   ]
  },
  {
   "cell_type": "code",
   "execution_count": null,
   "metadata": {},
   "outputs": [],
   "source": [
    "# Exit and not stop container\n",
    "# Ctrl + P + Q"
   ]
  },
  {
   "attachments": {},
   "cell_type": "markdown",
   "metadata": {},
   "source": [
    "<b> Strop docker"
   ]
  },
  {
   "cell_type": "code",
   "execution_count": null,
   "metadata": {},
   "outputs": [],
   "source": [
    "!docker stop adbe0d5f6f9c"
   ]
  },
  {
   "attachments": {},
   "cell_type": "markdown",
   "metadata": {},
   "source": [
    "<b> Container Name"
   ]
  },
  {
   "cell_type": "code",
   "execution_count": 11,
   "metadata": {},
   "outputs": [
    {
     "name": "stdout",
     "output_type": "stream",
     "text": [
      "\u001b[?2004h\u001b]0;root@ubuntu_1: /\u0007root@ubuntu_1:/# ^C\u001b[?2004l\n",
      "\u001b[?2004l\n",
      "\u001b[?2004h\u001b]0;root@ubuntu_1: /\u0007root@ubuntu_1:/# "
     ]
    }
   ],
   "source": [
    "!docker run -it --name \"ABC\" -h ubuntu_1 ubuntu:latest"
   ]
  },
  {
   "cell_type": "code",
   "execution_count": 12,
   "metadata": {},
   "outputs": [
    {
     "name": "stdout",
     "output_type": "stream",
     "text": [
      "CONTAINER ID   IMAGE           COMMAND       CREATED          STATUS                        PORTS     NAMES\n",
      "09d6da5c950e   ubuntu:latest   \"/bin/bash\"   13 seconds ago   Exited (129) 7 seconds ago              ABC\n",
      "adbe0d5f6f9c   ubuntu:latest   \"/bin/bash\"   11 minutes ago   Exited (129) 10 minutes ago             vibrant_hellman\n",
      "57164a22fc57   ubuntu:latest   \"/bin/bash\"   27 minutes ago   Exited (255) 25 minutes ago             eager_jang\n"
     ]
    }
   ],
   "source": [
    "!docker ps -a"
   ]
  },
  {
   "attachments": {},
   "cell_type": "markdown",
   "metadata": {},
   "source": [
    "<b> Delete container"
   ]
  },
  {
   "cell_type": "code",
   "execution_count": null,
   "metadata": {},
   "outputs": [],
   "source": [
    "!docker rm 57164a22fc57"
   ]
  },
  {
   "cell_type": "code",
   "execution_count": 14,
   "metadata": {},
   "outputs": [
    {
     "name": "stdout",
     "output_type": "stream",
     "text": [
      "CONTAINER ID   IMAGE           COMMAND       CREATED          STATUS                        PORTS     NAMES\n",
      "09d6da5c950e   ubuntu:latest   \"/bin/bash\"   2 minutes ago    Exited (129) 2 minutes ago              ABC\n",
      "adbe0d5f6f9c   ubuntu:latest   \"/bin/bash\"   13 minutes ago   Exited (129) 12 minutes ago             vibrant_hellman\n"
     ]
    }
   ],
   "source": [
    "!docker ps -a"
   ]
  }
 ],
 "metadata": {
  "kernelspec": {
   "display_name": "Python 3",
   "language": "python",
   "name": "python3"
  },
  "language_info": {
   "codemirror_mode": {
    "name": "ipython",
    "version": 3
   },
   "file_extension": ".py",
   "mimetype": "text/x-python",
   "name": "python",
   "nbconvert_exporter": "python",
   "pygments_lexer": "ipython3",
   "version": "3.9.13"
  },
  "orig_nbformat": 4
 },
 "nbformat": 4,
 "nbformat_minor": 2
}
