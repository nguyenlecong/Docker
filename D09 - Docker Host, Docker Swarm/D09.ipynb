{
 "cells": [
  {
   "attachments": {},
   "cell_type": "markdown",
   "metadata": {},
   "source": [
    "# Docker Host\n",
    "Sử dụng lệnh docker-machine để tạo ra cá máy ảo Docker, quản lý docker Machine trên máy local"
   ]
  },
  {
   "cell_type": "code",
   "execution_count": 41,
   "metadata": {},
   "outputs": [
    {
     "name": "stdout",
     "output_type": "stream",
     "text": [
      "NAME   ACTIVE   DRIVER   STATE   URL   SWARM   DOCKER   ERRORS\n"
     ]
    }
   ],
   "source": [
    "!docker-machine ls"
   ]
  },
  {
   "cell_type": "code",
   "execution_count": 43,
   "metadata": {},
   "outputs": [
    {
     "name": "stdout",
     "output_type": "stream",
     "text": [
      "Docker machine \"vps1\" already exists\n"
     ]
    }
   ],
   "source": [
    "# Firstly created node is manager/leader\n",
    "!docker-machine create --driver virtualbox --virtualbox-memory \"2048\" --virtualbox-hostonly-cidr 192.168.56.1/21 vps1"
   ]
  },
  {
   "cell_type": "code",
   "execution_count": null,
   "metadata": {},
   "outputs": [],
   "source": [
    "!docker-machine create --driver virtualbox vps2"
   ]
  },
  {
   "cell_type": "code",
   "execution_count": null,
   "metadata": {},
   "outputs": [],
   "source": [
    "!docker-machine create --driver virtualbox vps3"
   ]
  },
  {
   "cell_type": "code",
   "execution_count": null,
   "metadata": {},
   "outputs": [],
   "source": [
    "!docker-machine rm vps1"
   ]
  },
  {
   "cell_type": "code",
   "execution_count": null,
   "metadata": {},
   "outputs": [],
   "source": [
    "!docker-machine stop vps1 vps2"
   ]
  },
  {
   "cell_type": "code",
   "execution_count": null,
   "metadata": {},
   "outputs": [],
   "source": [
    "!docker-machine start vps1 vps2 "
   ]
  },
  {
   "cell_type": "code",
   "execution_count": 17,
   "metadata": {},
   "outputs": [
    {
     "name": "stdout",
     "output_type": "stream",
     "text": [
      "NAME   ACTIVE   DRIVER       STATE     URL   SWARM   DOCKER    ERRORS\n",
      "vps1   -        virtualbox   Stopped                 Unknown   \n",
      "vps2   -        virtualbox   Stopped                 Unknown   \n",
      "vps3   -        virtualbox   Stopped                 Unknown   \n"
     ]
    }
   ],
   "source": [
    "!docker-machine ls"
   ]
  },
  {
   "cell_type": "code",
   "execution_count": null,
   "metadata": {},
   "outputs": [],
   "source": [
    "!docker-machine ip vps1"
   ]
  },
  {
   "cell_type": "code",
   "execution_count": null,
   "metadata": {},
   "outputs": [],
   "source": [
    "!docker-machine scp -r data/ vps1:/home/"
   ]
  },
  {
   "cell_type": "code",
   "execution_count": null,
   "metadata": {},
   "outputs": [],
   "source": [
    "!docker-machine ssh vps1"
   ]
  },
  {
   "attachments": {},
   "cell_type": "markdown",
   "metadata": {},
   "source": [
    "# Docker Swarm"
   ]
  },
  {
   "attachments": {},
   "cell_type": "markdown",
   "metadata": {},
   "source": [
    "<b>Khi một cụm các máy (cluster) cùng chạy Docker Engine tập hợp lại kết nối với nhau nó hình thành nên một Docker Swarm, mỗi máy này có thể là một máy vật lý thật, VPS hay là máy ảo tự tạo."
   ]
  },
  {
   "attachments": {},
   "cell_type": "markdown",
   "metadata": {},
   "source": [
    "<b> Doi thu truc tiep cua docker swarm la Kubernetes"
   ]
  },
  {
   "cell_type": "code",
   "execution_count": null,
   "metadata": {},
   "outputs": [],
   "source": [
    "# Inside vps1 (manager/leader)\n",
    "!docker swarm init --advertise-addr=192.168.99.117\n",
    "\n",
    "!docker info\n",
    "\n",
    "!docker node ls\n",
    "\n",
    "!docker swarm join-token worker\n",
    "\n",
    "!docker node rm 'id'"
   ]
  },
  {
   "cell_type": "code",
   "execution_count": null,
   "metadata": {},
   "outputs": [],
   "source": [
    "# Inside vps2, vps3 (worker)\n",
    "!docker swarm join --token ...\n",
    "\n",
    "!docker swarm leave"
   ]
  },
  {
   "attachments": {},
   "cell_type": "markdown",
   "metadata": {},
   "source": [
    "<b>Docker stack</b><br>là một command được nhúng vào Docker CLI, giúp quản lý một vùng chứa (cluster) của docker containter thông qua docker swarm. <br>\n",
    "\n",
    "Lệnh docker stack để quản lý các dịch vụ chạy trên swarm, các thành phần của dịch vụ đó được mô tả trong file docker-compose.yml"
   ]
  },
  {
   "attachments": {},
   "cell_type": "markdown",
   "metadata": {},
   "source": [
    "<b>Mạng Overlay trên Docker Swarm</b><br>\n",
    "Mạng mà các container chạy trên swarm kết nối vào là loại mạng overlay, mạng này kết nối các docker host lại với nhau"
   ]
  },
  {
   "attachments": {},
   "cell_type": "markdown",
   "metadata": {},
   "source": [
    "<b>Các ổ đĩa - volume trên swarm</b><br>\n",
    "Để chia sẻ dữ liệu giữa các container chạy trên node khác nhau cần dùng đến các loại ổ đĩa mạng bằng các giao thức như nfs, smb, ssh ..."
   ]
  },
  {
   "attachments": {},
   "cell_type": "markdown",
   "metadata": {},
   "source": [
    "<b>Swarm có nhiều Node Manager</b><br>\n",
    "Ở trên tạo ra một Swarm với 1 node vài trò manager (vps1) và 2 node worker (vps3, vps2). Trong tình huống này, nếu node manager bị lỗi dẫn tới toàn bộ swarm không hoạt động. Trong tình huống đề phòng, có thể đề xuất vps2, vps3 cũng có vai trò Manager, nếu node manager chính (vps1) chết, hệ thống tự động kích hoạt vps2 là node manager ... <br>\n",
    "\n",
    "Để làm điều đó, thực hiện lệnh tại node manager đang hoạt động, lệnh này là đề xuất vps2 sẽ là node manager nếu vps1 die. <br>\n",
    "\n",
    "Tại vps1, gõ lệnh <br>\n",
    "\n",
    "    docker node promote NODEID\n",
    "    \n",
    "Từ giờ thì node vps2 cũng có vai trò Manager, nó sẽ thay thế cho vps1 nếu vps1 không còn hoạt động"
   ]
  }
 ],
 "metadata": {
  "kernelspec": {
   "display_name": "base",
   "language": "python",
   "name": "python3"
  },
  "language_info": {
   "codemirror_mode": {
    "name": "ipython",
    "version": 3
   },
   "file_extension": ".py",
   "mimetype": "text/x-python",
   "name": "python",
   "nbconvert_exporter": "python",
   "pygments_lexer": "ipython3",
   "version": "3.9.13"
  },
  "orig_nbformat": 4
 },
 "nbformat": 4,
 "nbformat_minor": 2
}
