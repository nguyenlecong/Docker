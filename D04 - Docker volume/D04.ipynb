{
 "cells": [
  {
   "attachments": {},
   "cell_type": "markdown",
   "metadata": {},
   "source": [
    "<b> Chia se du lieu giua may host voi containers"
   ]
  },
  {
   "cell_type": "code",
   "execution_count": 9,
   "metadata": {},
   "outputs": [
    {
     "name": "stdout",
     "output_type": "stream",
     "text": [
      "REPOSITORY   TAG       IMAGE ID       CREATED          SIZE\n",
      "ubuntu       v2        b49d7a0ddb93   15 minutes ago   77.8MB\n",
      "ubuntu       latest    08d22c0ceb15   5 weeks ago      77.8MB\n"
     ]
    }
   ],
   "source": [
    "!docker images"
   ]
  },
  {
   "cell_type": "code",
   "execution_count": 1,
   "metadata": {},
   "outputs": [
    {
     "name": "stdout",
     "output_type": "stream",
     "text": [
      "/home/nguyenlc/Documents/nguyenlc/docker_self_studying/D04 - Networking, docker volume\n"
     ]
    }
   ],
   "source": [
    "!pwd"
   ]
  },
  {
   "cell_type": "code",
   "execution_count": 8,
   "metadata": {},
   "outputs": [
    {
     "name": "stdout",
     "output_type": "stream",
     "text": [
      "09d6da5c950e\n"
     ]
    }
   ],
   "source": [
    "!docker stop 09d6da5c950e"
   ]
  },
  {
   "cell_type": "code",
   "execution_count": 1,
   "metadata": {},
   "outputs": [
    {
     "name": "stdout",
     "output_type": "stream",
     "text": [
      "\u001b[?2004h\u001b]0;root@4dfca53de5c3: /\u0007root@4dfca53de5c3:/# ^C\u001b[?2004l\n",
      "\u001b[?2004l\n",
      "\u001b[?2004h\u001b]0;root@4dfca53de5c3: /\u0007root@4dfca53de5c3:/# "
     ]
    }
   ],
   "source": [
    "!docker run -it -v /home/nguyenlc/Documents/nguyenlc/docker_self_studying/data:/home/data b49d7a0ddb93"
   ]
  },
  {
   "cell_type": "code",
   "execution_count": 5,
   "metadata": {},
   "outputs": [
    {
     "name": "stdout",
     "output_type": "stream",
     "text": [
      "CONTAINER ID   IMAGE     COMMAND   CREATED   STATUS    PORTS     NAMES\n"
     ]
    }
   ],
   "source": [
    "!docker ps -a"
   ]
  },
  {
   "attachments": {},
   "cell_type": "markdown",
   "metadata": {},
   "source": [
    "<b> Chia se du lieu giua containers voi nhau"
   ]
  },
  {
   "cell_type": "code",
   "execution_count": 6,
   "metadata": {},
   "outputs": [
    {
     "name": "stdout",
     "output_type": "stream",
     "text": [
      "REPOSITORY   TAG       IMAGE ID       CREATED          SIZE\n",
      "ubuntu       v2        b49d7a0ddb93   32 minutes ago   77.8MB\n",
      "ubuntu       latest    08d22c0ceb15   5 weeks ago      77.8MB\n"
     ]
    }
   ],
   "source": [
    "!docker images"
   ]
  },
  {
   "cell_type": "code",
   "execution_count": null,
   "metadata": {},
   "outputs": [],
   "source": [
    "!docker run -it -v /home/nguyenlc/Documents/nguyenlc/docker_self_studying/data:/home/data --name Trans b49d7a0ddb93"
   ]
  },
  {
   "cell_type": "code",
   "execution_count": 7,
   "metadata": {},
   "outputs": [
    {
     "name": "stdout",
     "output_type": "stream",
     "text": [
      "CONTAINER ID   IMAGE          COMMAND       CREATED          STATUS         PORTS     NAMES\n",
      "0415a2da8d50   b49d7a0ddb93   \"/bin/bash\"   11 seconds ago   Up 8 seconds             Trans\n"
     ]
    }
   ],
   "source": [
    "!docker ps -a"
   ]
  },
  {
   "cell_type": "code",
   "execution_count": null,
   "metadata": {},
   "outputs": [],
   "source": [
    "!docker run -it --name Trans_2 --volumes-from Trans 08d22c0ceb15"
   ]
  },
  {
   "cell_type": "code",
   "execution_count": 8,
   "metadata": {},
   "outputs": [
    {
     "name": "stdout",
     "output_type": "stream",
     "text": [
      "CONTAINER ID   IMAGE          COMMAND       CREATED          STATUS          PORTS     NAMES\n",
      "465535f7390e   08d22c0ceb15   \"/bin/bash\"   32 seconds ago   Up 29 seconds             Trans_2\n",
      "0415a2da8d50   b49d7a0ddb93   \"/bin/bash\"   2 minutes ago    Up 2 minutes              Trans\n"
     ]
    }
   ],
   "source": [
    "!docker ps -a"
   ]
  },
  {
   "attachments": {},
   "cell_type": "markdown",
   "metadata": {},
   "source": [
    "<b> Ngoai cach chia se du lieu thong qua thu muc  tren may host va container, docker con cho phep chia se du lieu thong qua tao hoac quan ly cac o dia"
   ]
  },
  {
   "cell_type": "code",
   "execution_count": 9,
   "metadata": {},
   "outputs": [
    {
     "name": "stdout",
     "output_type": "stream",
     "text": [
      "DRIVER    VOLUME NAME\n",
      "local     data\n"
     ]
    }
   ],
   "source": [
    "!docker volume ls"
   ]
  },
  {
   "cell_type": "code",
   "execution_count": 10,
   "metadata": {},
   "outputs": [
    {
     "name": "stdout",
     "output_type": "stream",
     "text": [
      "D1\n"
     ]
    }
   ],
   "source": [
    "!docker volume create D1"
   ]
  },
  {
   "cell_type": "code",
   "execution_count": 11,
   "metadata": {},
   "outputs": [
    {
     "name": "stdout",
     "output_type": "stream",
     "text": [
      "DRIVER    VOLUME NAME\n",
      "local     D1\n",
      "local     data\n"
     ]
    }
   ],
   "source": [
    "!docker volume ls"
   ]
  },
  {
   "cell_type": "code",
   "execution_count": 12,
   "metadata": {},
   "outputs": [
    {
     "name": "stdout",
     "output_type": "stream",
     "text": [
      "[\n",
      "    {\n",
      "        \"CreatedAt\": \"2023-04-14T15:28:33+07:00\",\n",
      "        \"Driver\": \"local\",\n",
      "        \"Labels\": null,\n",
      "        \"Mountpoint\": \"/var/lib/docker/volumes/D1/_data\",\n",
      "        \"Name\": \"D1\",\n",
      "        \"Options\": null,\n",
      "        \"Scope\": \"local\"\n",
      "    }\n",
      "]\n"
     ]
    }
   ],
   "source": [
    "!docker volume inspect D1"
   ]
  },
  {
   "cell_type": "code",
   "execution_count": 14,
   "metadata": {},
   "outputs": [
    {
     "name": "stdout",
     "output_type": "stream",
     "text": [
      "D2\n"
     ]
    }
   ],
   "source": [
    "!docker volume create D2"
   ]
  },
  {
   "cell_type": "code",
   "execution_count": 15,
   "metadata": {},
   "outputs": [
    {
     "name": "stdout",
     "output_type": "stream",
     "text": [
      "DRIVER    VOLUME NAME\n",
      "local     D1\n",
      "local     D2\n",
      "local     data\n"
     ]
    }
   ],
   "source": [
    "!docker volume ls"
   ]
  },
  {
   "cell_type": "code",
   "execution_count": 16,
   "metadata": {},
   "outputs": [
    {
     "name": "stdout",
     "output_type": "stream",
     "text": [
      "D1\n"
     ]
    }
   ],
   "source": [
    "!docker volume rm D1"
   ]
  },
  {
   "cell_type": "code",
   "execution_count": 17,
   "metadata": {},
   "outputs": [
    {
     "name": "stdout",
     "output_type": "stream",
     "text": [
      "DRIVER    VOLUME NAME\n",
      "local     D2\n",
      "local     data\n"
     ]
    }
   ],
   "source": [
    "!docker volume ls"
   ]
  },
  {
   "cell_type": "code",
   "execution_count": 18,
   "metadata": {},
   "outputs": [
    {
     "name": "stdout",
     "output_type": "stream",
     "text": [
      "CONTAINER ID   IMAGE          COMMAND       CREATED         STATUS                     PORTS     NAMES\n",
      "465535f7390e   08d22c0ceb15   \"/bin/bash\"   7 minutes ago   Exited (0) 2 minutes ago             Trans_2\n",
      "0415a2da8d50   b49d7a0ddb93   \"/bin/bash\"   9 minutes ago   Exited (0) 2 minutes ago             Trans\n"
     ]
    }
   ],
   "source": [
    "!docker ps -a"
   ]
  },
  {
   "cell_type": "code",
   "execution_count": 19,
   "metadata": {},
   "outputs": [
    {
     "name": "stdout",
     "output_type": "stream",
     "text": [
      "REPOSITORY   TAG       IMAGE ID       CREATED          SIZE\n",
      "ubuntu       v2        b49d7a0ddb93   43 minutes ago   77.8MB\n",
      "ubuntu       latest    08d22c0ceb15   5 weeks ago      77.8MB\n"
     ]
    }
   ],
   "source": [
    "!docker images"
   ]
  },
  {
   "cell_type": "code",
   "execution_count": null,
   "metadata": {},
   "outputs": [],
   "source": [
    "!docker run -it --name VolMount --mount source=D2,target=/home/disk2 b49"
   ]
  },
  {
   "cell_type": "code",
   "execution_count": 20,
   "metadata": {},
   "outputs": [
    {
     "name": "stdout",
     "output_type": "stream",
     "text": [
      "CONTAINER ID   IMAGE     COMMAND   CREATED   STATUS    PORTS     NAMES\n"
     ]
    }
   ],
   "source": [
    "!docker ps -a"
   ]
  },
  {
   "cell_type": "code",
   "execution_count": null,
   "metadata": {},
   "outputs": [],
   "source": [
    "!docker run -it --name CheckDisk --mount source=D2,target=/home/disk2 b49"
   ]
  },
  {
   "attachments": {},
   "cell_type": "markdown",
   "metadata": {},
   "source": [
    "<b> Tao o dia anh xa toi mot thu muc cua may host"
   ]
  },
  {
   "cell_type": "code",
   "execution_count": 24,
   "metadata": {},
   "outputs": [
    {
     "name": "stdout",
     "output_type": "stream",
     "text": [
      "DISK1\n"
     ]
    }
   ],
   "source": [
    "!docker volume create --opt device=/home/nguyenlc/Documents/nguyenlc/docker_self_studying/data --opt type=none --opt o=bind DISK1"
   ]
  },
  {
   "cell_type": "code",
   "execution_count": 25,
   "metadata": {},
   "outputs": [
    {
     "name": "stdout",
     "output_type": "stream",
     "text": [
      "DRIVER    VOLUME NAME\n",
      "local     D2\n",
      "local     DISK1\n",
      "local     data\n"
     ]
    }
   ],
   "source": [
    "!docker volume ls"
   ]
  },
  {
   "cell_type": "code",
   "execution_count": 26,
   "metadata": {},
   "outputs": [
    {
     "name": "stdout",
     "output_type": "stream",
     "text": [
      "[\n",
      "    {\n",
      "        \"CreatedAt\": \"2023-04-14T15:39:08+07:00\",\n",
      "        \"Driver\": \"local\",\n",
      "        \"Labels\": null,\n",
      "        \"Mountpoint\": \"/var/lib/docker/volumes/DISK1/_data\",\n",
      "        \"Name\": \"DISK1\",\n",
      "        \"Options\": {\n",
      "            \"device\": \"/home/nguyenlc/Documents/nguyenlc/docker_self_studying/data\",\n",
      "            \"o\": \"bind\",\n",
      "            \"type\": \"none\"\n",
      "        },\n",
      "        \"Scope\": \"local\"\n",
      "    }\n",
      "]\n"
     ]
    }
   ],
   "source": [
    "!docker volume inspect DISK1"
   ]
  },
  {
   "cell_type": "code",
   "execution_count": 28,
   "metadata": {},
   "outputs": [
    {
     "name": "stdout",
     "output_type": "stream",
     "text": [
      "REPOSITORY   TAG       IMAGE ID       CREATED          SIZE\n",
      "ubuntu       v2        b49d7a0ddb93   54 minutes ago   77.8MB\n",
      "ubuntu       latest    08d22c0ceb15   5 weeks ago      77.8MB\n"
     ]
    }
   ],
   "source": [
    "!docker images"
   ]
  },
  {
   "cell_type": "code",
   "execution_count": null,
   "metadata": {},
   "outputs": [],
   "source": [
    "!docker run -it -v DISK1:/home/disk b49"
   ]
  }
 ],
 "metadata": {
  "kernelspec": {
   "display_name": "base",
   "language": "python",
   "name": "python3"
  },
  "language_info": {
   "codemirror_mode": {
    "name": "ipython",
    "version": 3
   },
   "file_extension": ".py",
   "mimetype": "text/x-python",
   "name": "python",
   "nbconvert_exporter": "python",
   "pygments_lexer": "ipython3",
   "version": "3.9.13"
  },
  "orig_nbformat": 4
 },
 "nbformat": 4,
 "nbformat_minor": 2
}
