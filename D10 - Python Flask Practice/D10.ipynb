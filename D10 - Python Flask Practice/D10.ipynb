{
 "cells": [
  {
   "attachments": {},
   "cell_type": "markdown",
   "metadata": {},
   "source": [
    "<b>Create a python Flask WebApp"
   ]
  },
  {
   "attachments": {},
   "cell_type": "markdown",
   "metadata": {},
   "source": [
    "<b>Build an image from this App"
   ]
  },
  {
   "cell_type": "code",
   "execution_count": 1,
   "metadata": {},
   "outputs": [
    {
     "name": "stdout",
     "output_type": "stream",
     "text": [
      "REPOSITORY   TAG       IMAGE ID       CREATED        SIZE\n",
      "myimage      v1        b05e18118ab2   23 hours ago   769MB\n",
      "ubuntu       v2        b49d7a0ddb93   3 days ago     77.8MB\n",
      "busybox      latest    7cfbbec8963d   4 weeks ago    4.86MB\n",
      "ubuntu       latest    08d22c0ceb15   5 weeks ago    77.8MB\n"
     ]
    }
   ],
   "source": [
    "!docker images"
   ]
  },
  {
   "cell_type": "code",
   "execution_count": null,
   "metadata": {},
   "outputs": [],
   "source": [
    "!docker build -t python-flask-app:v1 ."
   ]
  },
  {
   "cell_type": "code",
   "execution_count": 3,
   "metadata": {},
   "outputs": [
    {
     "name": "stdout",
     "output_type": "stream",
     "text": [
      "REPOSITORY         TAG       IMAGE ID       CREATED              SIZE\n",
      "python-flask-app   v1        3efa6b7401b6   About a minute ago   942MB\n",
      "myimage            v1        b05e18118ab2   23 hours ago         769MB\n",
      "ubuntu             v2        b49d7a0ddb93   3 days ago           77.8MB\n",
      "busybox            latest    7cfbbec8963d   4 weeks ago          4.86MB\n",
      "ubuntu             latest    08d22c0ceb15   5 weeks ago          77.8MB\n"
     ]
    }
   ],
   "source": [
    "!docker images"
   ]
  },
  {
   "attachments": {},
   "cell_type": "markdown",
   "metadata": {},
   "source": [
    "<b>Create container from this image and run"
   ]
  },
  {
   "cell_type": "code",
   "execution_count": 4,
   "metadata": {},
   "outputs": [
    {
     "name": "stdout",
     "output_type": "stream",
     "text": [
      "CONTAINER ID   IMAGE        COMMAND                  CREATED        STATUS                    PORTS     NAMES\n",
      "0bef93429cef   myimage:v1   \"httpd /bin/sh -c '[…\"   23 hours ago   Exited (1) 23 hours ago             interesting_perlman\n",
      "b90dfb638d76   b49          \"/bin/bash\"              25 hours ago   Exited (0) 25 hours ago             objective_mayer\n"
     ]
    }
   ],
   "source": [
    "!docker ps -a"
   ]
  },
  {
   "cell_type": "code",
   "execution_count": null,
   "metadata": {},
   "outputs": [],
   "source": [
    "!docker run -dp 5002:5000 \\\n",
    "    --name python-flask-app-container \\\n",
    "    -v \"$(pwd):/app\" 3efa6b7401b6"
   ]
  },
  {
   "cell_type": "code",
   "execution_count": 5,
   "metadata": {},
   "outputs": [
    {
     "name": "stdout",
     "output_type": "stream",
     "text": [
      "CONTAINER ID   IMAGE          COMMAND                  CREATED         STATUS         PORTS                                       NAMES\n",
      "434252af2c52   3efa6b7401b6   \"python -m flask run…\"   6 seconds ago   Up 3 seconds   0.0.0.0:5002->5000/tcp, :::5002->5000/tcp   python-flask-app-container\n"
     ]
    }
   ],
   "source": [
    "!docker ps"
   ]
  },
  {
   "cell_type": "code",
   "execution_count": 6,
   "metadata": {},
   "outputs": [
    {
     "name": "stdout",
     "output_type": "stream",
     "text": [
      " * Environment: production\n",
      "   WARNING: This is a development server. Do not use it in a production deployment.\n",
      "   Use a production WSGI server instead.\n",
      " * Debug mode: off\n",
      "\u001b[31m\u001b[1mWARNING: This is a development server. Do not use it in a production deployment. Use a production WSGI server instead.\u001b[0m\n",
      " * Running on all addresses (0.0.0.0)\n",
      " * Running on http://127.0.0.1:5000\n",
      " * Running on http://172.17.0.2:5000\n",
      "\u001b[33mPress CTRL+C to quit\u001b[0m\n"
     ]
    }
   ],
   "source": [
    "!docker logs 434"
   ]
  },
  {
   "cell_type": "code",
   "execution_count": 7,
   "metadata": {},
   "outputs": [
    {
     "name": "stdout",
     "output_type": "stream",
     "text": [
      "Python Flask With Docker Practice"
     ]
    }
   ],
   "source": [
    "!curl localhost:5002"
   ]
  },
  {
   "attachments": {},
   "cell_type": "markdown",
   "metadata": {},
   "source": [
    "<b> Update code -> docker stop container -> docker start container"
   ]
  },
  {
   "cell_type": "code",
   "execution_count": null,
   "metadata": {},
   "outputs": [],
   "source": [
    "!docker restart container"
   ]
  },
  {
   "attachments": {},
   "cell_type": "markdown",
   "metadata": {},
   "source": [
    "<b> Update code, add MySQL container, add Network, Volume"
   ]
  },
  {
   "cell_type": "code",
   "execution_count": 8,
   "metadata": {},
   "outputs": [
    {
     "name": "stdout",
     "output_type": "stream",
     "text": [
      "mysql-python-app-volume\n"
     ]
    }
   ],
   "source": [
    "!docker volume create mysql-python-app-volume"
   ]
  },
  {
   "cell_type": "code",
   "execution_count": 9,
   "metadata": {},
   "outputs": [
    {
     "name": "stdout",
     "output_type": "stream",
     "text": [
      "mysql-python-app-volume-config\n"
     ]
    }
   ],
   "source": [
    "!docker volume create mysql-python-app-volume-config"
   ]
  },
  {
   "cell_type": "code",
   "execution_count": 10,
   "metadata": {},
   "outputs": [
    {
     "name": "stdout",
     "output_type": "stream",
     "text": [
      "DRIVER    VOLUME NAME\n",
      "local     D2\n",
      "local     DISK1\n",
      "local     data\n",
      "local     mysql-python-app-volume\n",
      "local     mysql-python-app-volume-config\n"
     ]
    }
   ],
   "source": [
    "!docker volume ls"
   ]
  },
  {
   "cell_type": "code",
   "execution_count": 11,
   "metadata": {},
   "outputs": [
    {
     "name": "stdout",
     "output_type": "stream",
     "text": [
      "ea4c4a5504927436c2d3a8f5a5c6eb957f7d8db4cbbb6ea7218052c6abfcbd59\n"
     ]
    }
   ],
   "source": [
    "!docker network create mysql-python-app-network"
   ]
  },
  {
   "cell_type": "code",
   "execution_count": 12,
   "metadata": {},
   "outputs": [
    {
     "name": "stdout",
     "output_type": "stream",
     "text": [
      "NETWORK ID     NAME                       DRIVER    SCOPE\n",
      "097fe9392588   bridge                     bridge    local\n",
      "dbc5ffc40741   host                       host      local\n",
      "3b8cd3952397   mynetwork                  bridge    local\n",
      "ea4c4a550492   mysql-python-app-network   bridge    local\n",
      "7c7c98726ec1   none                       null      local\n"
     ]
    }
   ],
   "source": [
    "!docker network ls"
   ]
  },
  {
   "attachments": {},
   "cell_type": "markdown",
   "metadata": {},
   "source": [
    "<b>Create mysql container"
   ]
  },
  {
   "cell_type": "code",
   "execution_count": 14,
   "metadata": {},
   "outputs": [
    {
     "name": "stdout",
     "output_type": "stream",
     "text": [
      "Unable to find image 'mysql:8.0.28' locally\n",
      "8.0.28: Pulling from library/mysql\n",
      "\n",
      "\u001b[1B15f6562f: Pulling fs layer \n",
      "\u001b[1Beb237a1b: Pulling fs layer \n",
      "\u001b[1Bac85066b: Pulling fs layer \n",
      "\u001b[1B524f6c89: Pulling fs layer \n",
      "\u001b[1B8631064f: Pulling fs layer \n",
      "\u001b[1B3ec3ff50: Pulling fs layer \n",
      "\u001b[1Bdc337dcb: Pulling fs layer \n",
      "\u001b[1Ba78d12d6: Pulling fs layer \n",
      "\u001b[1Ba07a253d: Pulling fs layer \n",
      "\u001b[1B05dc9e58: Pulling fs layer \n",
      "\u001b[1B41026e44: Pulling fs layer \n",
      "\u001b[1Bf73ebe32: Pull complete  121B/121B5kBB\u001b[10A\u001b[2K\u001b[10A\u001b[2K\u001b[10A\u001b[2K\u001b[10A\u001b[2K\u001b[10A\u001b[2K\u001b[12A\u001b[2K\u001b[10A\u001b[2K\u001b[12A\u001b[2K\u001b[10A\u001b[2K\u001b[12A\u001b[2K\u001b[10A\u001b[2K\u001b[12A\u001b[2K\u001b[12A\u001b[2K\u001b[12A\u001b[2K\u001b[12A\u001b[2K\u001b[12A\u001b[2K\u001b[12A\u001b[2K\u001b[12A\u001b[2K\u001b[12A\u001b[2K\u001b[8A\u001b[2K\u001b[12A\u001b[2K\u001b[12A\u001b[2K\u001b[12A\u001b[2K\u001b[12A\u001b[2K\u001b[12A\u001b[2K\u001b[12A\u001b[2K\u001b[12A\u001b[2K\u001b[12A\u001b[2K\u001b[12A\u001b[2K\u001b[12A\u001b[2K\u001b[12A\u001b[2K\u001b[12A\u001b[2K\u001b[12A\u001b[2K\u001b[9A\u001b[2K\u001b[12A\u001b[2K\u001b[12A\u001b[2K\u001b[7A\u001b[2K\u001b[9A\u001b[2K\u001b[7A\u001b[2K\u001b[9A\u001b[2K\u001b[12A\u001b[2K\u001b[9A\u001b[2K\u001b[7A\u001b[2K\u001b[12A\u001b[2K\u001b[7A\u001b[2K\u001b[12A\u001b[2K\u001b[12A\u001b[2K\u001b[12A\u001b[2K\u001b[7A\u001b[2K\u001b[12A\u001b[2K\u001b[7A\u001b[2K\u001b[12A\u001b[2K\u001b[7A\u001b[2K\u001b[6A\u001b[2K\u001b[6A\u001b[2K\u001b[12A\u001b[2K\u001b[5A\u001b[2K\u001b[12A\u001b[2K\u001b[7A\u001b[2K\u001b[12A\u001b[2K\u001b[7A\u001b[2K\u001b[7A\u001b[2K\u001b[12A\u001b[2K\u001b[11A\u001b[2K\u001b[7A\u001b[2K\u001b[7A\u001b[2K\u001b[7A\u001b[2K\u001b[11A\u001b[2K\u001b[10A\u001b[2K\u001b[7A\u001b[2K\u001b[4A\u001b[2K\u001b[7A\u001b[2K\u001b[10A\u001b[2K\u001b[7A\u001b[2K\u001b[3A\u001b[2K\u001b[7A\u001b[2K\u001b[4A\u001b[2K\u001b[10A\u001b[2K\u001b[9A\u001b[2K\u001b[4A\u001b[2K\u001b[7A\u001b[2K\u001b[4A\u001b[2K\u001b[9A\u001b[2K\u001b[8A\u001b[2K\u001b[7A\u001b[2K\u001b[4A\u001b[2K\u001b[7A\u001b[2K\u001b[4A\u001b[2K\u001b[7A\u001b[2K\u001b[4A\u001b[2K\u001b[7A\u001b[2K\u001b[4A\u001b[2K\u001b[7A\u001b[2K\u001b[4A\u001b[2K\u001b[4A\u001b[2K\u001b[7A\u001b[2K\u001b[7A\u001b[2K\u001b[4A\u001b[2K\u001b[7A\u001b[2K\u001b[4A\u001b[2K\u001b[7A\u001b[2K\u001b[4A\u001b[2K\u001b[7A\u001b[2K\u001b[4A\u001b[2K\u001b[7A\u001b[2K\u001b[4A\u001b[2K\u001b[7A\u001b[2K\u001b[7A\u001b[2K\u001b[4A\u001b[2K\u001b[7A\u001b[2K\u001b[4A\u001b[2K\u001b[7A\u001b[2K\u001b[4A\u001b[2K\u001b[7A\u001b[2K\u001b[4A\u001b[2K\u001b[7A\u001b[2K\u001b[4A\u001b[2K\u001b[7A\u001b[2K\u001b[4A\u001b[2K\u001b[7A\u001b[2K\u001b[4A\u001b[2K\u001b[7A\u001b[2K\u001b[7A\u001b[2K\u001b[4A\u001b[2K\u001b[7A\u001b[2K\u001b[7A\u001b[2K\u001b[4A\u001b[2K\u001b[7A\u001b[2K\u001b[7A\u001b[2K\u001b[7A\u001b[2K\u001b[4A\u001b[2K\u001b[7A\u001b[2K\u001b[4A\u001b[2K\u001b[4A\u001b[2K\u001b[7A\u001b[2K\u001b[6A\u001b[2K\u001b[4A\u001b[2K\u001b[4A\u001b[2K\u001b[6A\u001b[2K\u001b[4A\u001b[2K\u001b[5A\u001b[2K\u001b[4A\u001b[2K\u001b[4A\u001b[2K\u001b[5A\u001b[2K\u001b[4A\u001b[2K\u001b[4A\u001b[2K\u001b[4A\u001b[2K\u001b[4A\u001b[2K\u001b[4A\u001b[2K\u001b[4A\u001b[2K\u001b[4A\u001b[2K\u001b[4A\u001b[2K\u001b[4A\u001b[2K\u001b[4A\u001b[2K\u001b[4A\u001b[2K\u001b[4A\u001b[2K\u001b[4A\u001b[2K\u001b[4A\u001b[2K\u001b[4A\u001b[2K\u001b[4A\u001b[2K\u001b[4A\u001b[2K\u001b[4A\u001b[2K\u001b[4A\u001b[2K\u001b[4A\u001b[2K\u001b[4A\u001b[2K\u001b[4A\u001b[2K\u001b[4A\u001b[2K\u001b[4A\u001b[2K\u001b[4A\u001b[2K\u001b[4A\u001b[2K\u001b[4A\u001b[2K\u001b[4A\u001b[2K\u001b[4A\u001b[2K\u001b[4A\u001b[2K\u001b[4A\u001b[2K\u001b[4A\u001b[2K\u001b[4A\u001b[2K\u001b[4A\u001b[2K\u001b[4A\u001b[2K\u001b[4A\u001b[2K\u001b[4A\u001b[2K\u001b[4A\u001b[2K\u001b[4A\u001b[2K\u001b[4A\u001b[2K\u001b[4A\u001b[2K\u001b[4A\u001b[2K\u001b[4A\u001b[2K\u001b[4A\u001b[2K\u001b[4A\u001b[2K\u001b[4A\u001b[2K\u001b[4A\u001b[2K\u001b[4A\u001b[2K\u001b[4A\u001b[2K\u001b[4A\u001b[2K\u001b[4A\u001b[2K\u001b[4A\u001b[2K\u001b[4A\u001b[2K\u001b[4A\u001b[2K\u001b[4A\u001b[2K\u001b[4A\u001b[2K\u001b[4A\u001b[2K\u001b[4A\u001b[2K\u001b[4A\u001b[2K\u001b[4A\u001b[2K\u001b[4A\u001b[2K\u001b[4A\u001b[2K\u001b[4A\u001b[2K\u001b[4A\u001b[2K\u001b[4A\u001b[2K\u001b[4A\u001b[2K\u001b[4A\u001b[2K\u001b[4A\u001b[2K\u001b[4A\u001b[2K\u001b[4A\u001b[2K\u001b[4A\u001b[2K\u001b[4A\u001b[2K\u001b[4A\u001b[2K\u001b[4A\u001b[2K\u001b[4A\u001b[2K\u001b[4A\u001b[2K\u001b[4A\u001b[2K\u001b[4A\u001b[2K\u001b[4A\u001b[2K\u001b[4A\u001b[2K\u001b[4A\u001b[2K\u001b[4A\u001b[2K\u001b[4A\u001b[2K\u001b[4A\u001b[2K\u001b[4A\u001b[2K\u001b[4A\u001b[2K\u001b[4A\u001b[2K\u001b[4A\u001b[2K\u001b[3A\u001b[2K\u001b[3A\u001b[2K\u001b[2A\u001b[2K\u001b[2A\u001b[2K\u001b[1A\u001b[2K\u001b[1A\u001b[2KDigest: sha256:fc77d54cacef90ad3d75964837fad0f2a9a368b69e7d799665a3f4e90e600c2d\n",
      "Status: Downloaded newer image for mysql:8.0.28\n",
      "8dfab3f0fd15c81666aca0079518fcdd4586e686a94923c9bd1c000154967657\n"
     ]
    }
   ],
   "source": [
    "# --rm: automatic remove container after stop\n",
    "!docker run --rm -d\\\n",
    "    -v mysql-python-app-volume:/var/lib/mysql \\\n",
    "    -v mysql-python-app-volume-config:/etc/mysql \\\n",
    "    --name mysql-flask-app-container \\\n",
    "    -p 3309:3306 \\\n",
    "    --network mysql-python-app-network \\\n",
    "    -e MYSQL_ROOT_PASSWORD=Abc@123456789 \\\n",
    "    mysql:8.0.28"
   ]
  },
  {
   "cell_type": "code",
   "execution_count": 16,
   "metadata": {},
   "outputs": [
    {
     "name": "stdout",
     "output_type": "stream",
     "text": [
      "CONTAINER ID   IMAGE          COMMAND                  CREATED          STATUS          PORTS                                                  NAMES\n",
      "8dfab3f0fd15   mysql:8.0.28   \"docker-entrypoint.s…\"   29 seconds ago   Up 22 seconds   33060/tcp, 0.0.0.0:3309->3306/tcp, :::3309->3306/tcp   mysql-flask-app-container\n",
      "434252af2c52   3efa6b7401b6   \"python -m flask run…\"   21 minutes ago   Up 21 minutes   0.0.0.0:5002->5000/tcp, :::5002->5000/tcp              python-flask-app-container\n"
     ]
    }
   ],
   "source": [
    "!docker ps"
   ]
  },
  {
   "attachments": {},
   "cell_type": "markdown",
   "metadata": {},
   "source": [
    "<b>Access mysql's command line inside mysql-flask-app-container"
   ]
  },
  {
   "attachments": {},
   "cell_type": "markdown",
   "metadata": {},
   "source": [
    "<b>docker exec</b> executes a new command / create a new process in the container’s environment, while <b>docker attach</b> just connects the standard input/output/error of the main process(with PID 1) inside the container to corresponding standard input/output/error of current terminal(the terminal you are using to run the command)."
   ]
  },
  {
   "cell_type": "code",
   "execution_count": null,
   "metadata": {},
   "outputs": [],
   "source": [
    "!docker exec -it mysql-flask-app-container mysql -u root -p"
   ]
  },
  {
   "cell_type": "code",
   "execution_count": null,
   "metadata": {},
   "outputs": [],
   "source": [
    "!show databases;"
   ]
  },
  {
   "attachments": {},
   "cell_type": "markdown",
   "metadata": {},
   "source": [
    "<b>Create Database"
   ]
  },
  {
   "cell_type": "code",
   "execution_count": 1,
   "metadata": {},
   "outputs": [
    {
     "name": "stdout",
     "output_type": "stream",
     "text": [
      "434\n"
     ]
    }
   ],
   "source": [
    "!docker restart 434"
   ]
  },
  {
   "cell_type": "code",
   "execution_count": 2,
   "metadata": {},
   "outputs": [
    {
     "name": "stdout",
     "output_type": "stream",
     "text": [
      "CONTAINER ID   IMAGE          COMMAND                  CREATED          STATUS          PORTS                                                  NAMES\n",
      "8dfab3f0fd15   mysql:8.0.28   \"docker-entrypoint.s…\"   21 minutes ago   Up 20 minutes   33060/tcp, 0.0.0.0:3309->3306/tcp, :::3309->3306/tcp   mysql-flask-app-container\n",
      "434252af2c52   3efa6b7401b6   \"python -m flask run…\"   41 minutes ago   Up 2 seconds    0.0.0.0:5002->5000/tcp, :::5002->5000/tcp              python-flask-app-container\n"
     ]
    }
   ],
   "source": [
    "!docker ps"
   ]
  },
  {
   "attachments": {},
   "cell_type": "markdown",
   "metadata": {},
   "source": [
    "<b> Add Networking"
   ]
  },
  {
   "cell_type": "code",
   "execution_count": 3,
   "metadata": {},
   "outputs": [
    {
     "name": "stdout",
     "output_type": "stream",
     "text": [
      "434\n"
     ]
    }
   ],
   "source": [
    "!docker rm -f 434"
   ]
  },
  {
   "cell_type": "code",
   "execution_count": 2,
   "metadata": {},
   "outputs": [
    {
     "name": "stdout",
     "output_type": "stream",
     "text": [
      "CONTAINER ID   IMAGE          COMMAND                  CREATED          STATUS          PORTS                                                  NAMES\n",
      "8dfab3f0fd15   mysql:8.0.28   \"docker-entrypoint.s…\"   25 minutes ago   Up 25 minutes   33060/tcp, 0.0.0.0:3309->3306/tcp, :::3309->3306/tcp   mysql-flask-app-container\n"
     ]
    }
   ],
   "source": [
    "!docker ps"
   ]
  },
  {
   "cell_type": "code",
   "execution_count": 3,
   "metadata": {},
   "outputs": [
    {
     "name": "stdout",
     "output_type": "stream",
     "text": [
      "b9d0cea0474ef894eafcb4a147b3545de47499d6ab2b9e0e9b6bbe617a484702\n"
     ]
    }
   ],
   "source": [
    "!docker run -dp 5002:5000 \\\n",
    "    --name python-flask-app-container \\\n",
    "    --network mysql-python-app-network \\\n",
    "    -v \"$(pwd):/app\"\\\n",
    "    3efa6b7401b6"
   ]
  },
  {
   "cell_type": "code",
   "execution_count": 4,
   "metadata": {},
   "outputs": [
    {
     "name": "stdout",
     "output_type": "stream",
     "text": [
      "CONTAINER ID   IMAGE          COMMAND                  CREATED          STATUS          PORTS                                                  NAMES\n",
      "b9d0cea0474e   3efa6b7401b6   \"python -m flask run…\"   7 seconds ago    Up 4 seconds    0.0.0.0:5002->5000/tcp, :::5002->5000/tcp              python-flask-app-container\n",
      "8dfab3f0fd15   mysql:8.0.28   \"docker-entrypoint.s…\"   26 minutes ago   Up 25 minutes   33060/tcp, 0.0.0.0:3309->3306/tcp, :::3309->3306/tcp   mysql-flask-app-container\n"
     ]
    }
   ],
   "source": [
    "!docker ps"
   ]
  },
  {
   "cell_type": "code",
   "execution_count": 6,
   "metadata": {},
   "outputs": [
    {
     "name": "stdout",
     "output_type": "stream",
     "text": [
      " * Environment: production\n",
      "   WARNING: This is a development server. Do not use it in a production deployment.\n",
      "   Use a production WSGI server instead.\n",
      " * Debug mode: off\n",
      "\u001b[31m\u001b[1mWARNING: This is a development server. Do not use it in a production deployment. Use a production WSGI server instead.\u001b[0m\n",
      " * Running on all addresses (0.0.0.0)\n",
      " * Running on http://127.0.0.1:5000\n",
      " * Running on http://172.18.0.3:5000\n",
      "\u001b[33mPress CTRL+C to quit\u001b[0m\n"
     ]
    }
   ],
   "source": [
    "!docker logs b9d"
   ]
  },
  {
   "cell_type": "code",
   "execution_count": 7,
   "metadata": {},
   "outputs": [
    {
     "name": "stdout",
     "output_type": "stream",
     "text": [
      "init Database"
     ]
    }
   ],
   "source": [
    "!curl localhost:5002/initdb"
   ]
  },
  {
   "cell_type": "code",
   "execution_count": 8,
   "metadata": {},
   "outputs": [
    {
     "name": "stdout",
     "output_type": "stream",
     "text": [
      " * Environment: production\n",
      "   WARNING: This is a development server. Do not use it in a production deployment.\n",
      "   Use a production WSGI server instead.\n",
      " * Debug mode: off\n",
      "\u001b[31m\u001b[1mWARNING: This is a development server. Do not use it in a production deployment. Use a production WSGI server instead.\u001b[0m\n",
      " * Running on all addresses (0.0.0.0)\n",
      " * Running on http://127.0.0.1:5000\n",
      " * Running on http://172.18.0.3:5000\n",
      "\u001b[33mPress CTRL+C to quit\u001b[0m\n",
      "172.18.0.1 - - [18/Apr/2023 04:59:18] \"GET /initdb HTTP/1.1\" 200 -\n"
     ]
    }
   ],
   "source": [
    "!docker logs b9d"
   ]
  },
  {
   "cell_type": "code",
   "execution_count": null,
   "metadata": {},
   "outputs": [],
   "source": [
    "!docker exec -it mysql-flask-app-container mysql -u root -p"
   ]
  },
  {
   "cell_type": "code",
   "execution_count": null,
   "metadata": {},
   "outputs": [],
   "source": [
    "!show database;"
   ]
  },
  {
   "attachments": {},
   "cell_type": "markdown",
   "metadata": {},
   "source": [
    "<b> Init table"
   ]
  },
  {
   "cell_type": "code",
   "execution_count": 9,
   "metadata": {},
   "outputs": [
    {
     "name": "stdout",
     "output_type": "stream",
     "text": [
      "b9d\n"
     ]
    }
   ],
   "source": [
    "!docker restart b9d"
   ]
  },
  {
   "cell_type": "code",
   "execution_count": 10,
   "metadata": {},
   "outputs": [
    {
     "name": "stdout",
     "output_type": "stream",
     "text": [
      "init_tables"
     ]
    }
   ],
   "source": [
    "!curl localhost:5002/init_tables"
   ]
  },
  {
   "cell_type": "code",
   "execution_count": 11,
   "metadata": {},
   "outputs": [
    {
     "name": "stdout",
     "output_type": "stream",
     "text": [
      " * Environment: production\n",
      "   WARNING: This is a development server. Do not use it in a production deployment.\n",
      "   Use a production WSGI server instead.\n",
      " * Debug mode: off\n",
      "\u001b[31m\u001b[1mWARNING: This is a development server. Do not use it in a production deployment. Use a production WSGI server instead.\u001b[0m\n",
      " * Running on all addresses (0.0.0.0)\n",
      " * Running on http://127.0.0.1:5000\n",
      " * Running on http://172.18.0.3:5000\n",
      "\u001b[33mPress CTRL+C to quit\u001b[0m\n",
      "172.18.0.1 - - [18/Apr/2023 04:59:18] \"GET /initdb HTTP/1.1\" 200 -\n",
      " * Environment: production\n",
      "   WARNING: This is a development server. Do not use it in a production deployment.\n",
      "   Use a production WSGI server instead.\n",
      " * Debug mode: off\n",
      "\u001b[31m\u001b[1mWARNING: This is a development server. Do not use it in a production deployment. Use a production WSGI server instead.\u001b[0m\n",
      " * Running on all addresses (0.0.0.0)\n",
      " * Running on http://127.0.0.1:5000\n",
      " * Running on http://172.18.0.3:5000\n",
      "\u001b[33mPress CTRL+C to quit\u001b[0m\n",
      "172.18.0.1 - - [18/Apr/2023 05:05:13] \"GET /init_tables HTTP/1.1\" 200 -\n"
     ]
    }
   ],
   "source": [
    "!docker logs b9d"
   ]
  },
  {
   "cell_type": "code",
   "execution_count": null,
   "metadata": {},
   "outputs": [],
   "source": [
    "!use ProductManagement;"
   ]
  },
  {
   "cell_type": "code",
   "execution_count": null,
   "metadata": {},
   "outputs": [],
   "source": [
    "!show tables;"
   ]
  },
  {
   "cell_type": "code",
   "execution_count": null,
   "metadata": {},
   "outputs": [],
   "source": [
    "!describe tblProduct;"
   ]
  },
  {
   "cell_type": "code",
   "execution_count": null,
   "metadata": {},
   "outputs": [],
   "source": [
    "!INSERT INTO tblProduct(name, description) VALUES\n",
    "('macboook pro m1', 'please buy'),\n",
    "('iphone 13', 'please buy and buy');"
   ]
  },
  {
   "cell_type": "code",
   "execution_count": null,
   "metadata": {},
   "outputs": [],
   "source": [
    "!select * from tblProduct;"
   ]
  },
  {
   "cell_type": "code",
   "execution_count": 13,
   "metadata": {},
   "outputs": [
    {
     "name": "stdout",
     "output_type": "stream",
     "text": [
      "b9d\n"
     ]
    }
   ],
   "source": [
    "!docker restart b9d"
   ]
  },
  {
   "cell_type": "code",
   "execution_count": 15,
   "metadata": {},
   "outputs": [
    {
     "name": "stdout",
     "output_type": "stream",
     "text": [
      "[{\"id\": 1, \"name\": \"macboook pro m1\", \"description\": \"please buy\"}, {\"id\": 2, \"name\": \"iphone 13\", \"description\": \"please buy and buy\"}]"
     ]
    }
   ],
   "source": [
    "!curl localhost:5002/products"
   ]
  },
  {
   "attachments": {},
   "cell_type": "markdown",
   "metadata": {},
   "source": [
    "<b> Docker Compose </b><br>"
   ]
  },
  {
   "cell_type": "code",
   "execution_count": 19,
   "metadata": {},
   "outputs": [
    {
     "name": "stdout",
     "output_type": "stream",
     "text": [
      "CONTAINER ID   IMAGE          COMMAND                  CREATED       STATUS       PORTS                                                  NAMES\n",
      "b9d0cea0474e   3efa6b7401b6   \"python -m flask run…\"   2 hours ago   Up 2 hours   0.0.0.0:5002->5000/tcp, :::5002->5000/tcp              python-flask-app-container\n",
      "8dfab3f0fd15   mysql:8.0.28   \"docker-entrypoint.s…\"   2 hours ago   Up 2 hours   33060/tcp, 0.0.0.0:3309->3306/tcp, :::3309->3306/tcp   mysql-flask-app-container\n"
     ]
    }
   ],
   "source": [
    "!docker ps"
   ]
  },
  {
   "cell_type": "code",
   "execution_count": 20,
   "metadata": {},
   "outputs": [
    {
     "name": "stdout",
     "output_type": "stream",
     "text": [
      "b9d\n"
     ]
    }
   ],
   "source": [
    "!docker rm -f b9d"
   ]
  },
  {
   "cell_type": "code",
   "execution_count": 21,
   "metadata": {},
   "outputs": [
    {
     "name": "stdout",
     "output_type": "stream",
     "text": [
      "8df\n"
     ]
    }
   ],
   "source": [
    "!docker rm -f 8df"
   ]
  },
  {
   "cell_type": "code",
   "execution_count": null,
   "metadata": {},
   "outputs": [],
   "source": [
    "!docker-compose -f ./docker-compose.dev.yml up --build -d"
   ]
  },
  {
   "cell_type": "code",
   "execution_count": 22,
   "metadata": {},
   "outputs": [
    {
     "name": "stdout",
     "output_type": "stream",
     "text": [
      "CONTAINER ID   IMAGE                 COMMAND                  CREATED          STATUS          PORTS                                                  NAMES\n",
      "b6e21c291154   python-flask-app:v1   \"python -m flask run…\"   31 seconds ago   Up 28 seconds   0.0.0.0:5002->5000/tcp, :::5002->5000/tcp              python-flask-app-container\n",
      "94c42eb4cf85   mysql:8.0.28          \"docker-entrypoint.s…\"   31 seconds ago   Up 28 seconds   33060/tcp, 0.0.0.0:3309->3306/tcp, :::3309->3306/tcp   mysql-flask-app-container\n"
     ]
    }
   ],
   "source": [
    "!docker ps"
   ]
  },
  {
   "cell_type": "code",
   "execution_count": 25,
   "metadata": {},
   "outputs": [
    {
     "name": "stdout",
     "output_type": "stream",
     "text": [
      "<!doctype html>\n",
      "<html lang=en>\n",
      "<title>500 Internal Server Error</title>\n",
      "<h1>Internal Server Error</h1>\n",
      "<p>The server encountered an internal error and was unable to complete your request. Either the server is overloaded or there is an error in the application.</p>\n"
     ]
    }
   ],
   "source": [
    "!curl localhost:5002/products"
   ]
  },
  {
   "cell_type": "code",
   "execution_count": 26,
   "metadata": {},
   "outputs": [
    {
     "name": "stdout",
     "output_type": "stream",
     "text": [
      " * Environment: production\n",
      "   WARNING: This is a development server. Do not use it in a production deployment.\n",
      "   Use a production WSGI server instead.\n",
      " * Debug mode: off\n",
      "\u001b[31m\u001b[1mWARNING: This is a development server. Do not use it in a production deployment. Use a production WSGI server instead.\u001b[0m\n",
      " * Running on all addresses (0.0.0.0)\n",
      " * Running on http://127.0.0.1:5000\n",
      " * Running on http://172.18.0.3:5000\n",
      "\u001b[33mPress CTRL+C to quit\u001b[0m\n",
      "[2023-04-18 07:08:44,926] ERROR in app: Exception on /products [GET]\n",
      "Traceback (most recent call last):\n",
      "  File \"/usr/local/lib/python3.11/site-packages/mysql/connector/network.py\", line 574, in open_connection\n",
      "    self.sock.connect(sockaddr)\n",
      "ConnectionRefusedError: [Errno 111] Connection refused\n",
      "\n",
      "During handling of the above exception, another exception occurred:\n",
      "\n",
      "Traceback (most recent call last):\n",
      "  File \"/usr/local/lib/python3.11/site-packages/flask/app.py\", line 2073, in wsgi_app\n",
      "    response = self.full_dispatch_request()\n",
      "               ^^^^^^^^^^^^^^^^^^^^^^^^^^^^\n",
      "  File \"/usr/local/lib/python3.11/site-packages/flask/app.py\", line 1518, in full_dispatch_request\n",
      "    rv = self.handle_user_exception(e)\n",
      "         ^^^^^^^^^^^^^^^^^^^^^^^^^^^^^\n",
      "  File \"/usr/local/lib/python3.11/site-packages/flask/app.py\", line 1516, in full_dispatch_request\n",
      "    rv = self.dispatch_request()\n",
      "         ^^^^^^^^^^^^^^^^^^^^^^^\n",
      "  File \"/usr/local/lib/python3.11/site-packages/flask/app.py\", line 1502, in dispatch_request\n",
      "    return self.ensure_sync(self.view_functions[rule.endpoint])(**req.view_args)\n",
      "           ^^^^^^^^^^^^^^^^^^^^^^^^^^^^^^^^^^^^^^^^^^^^^^^^^^^^^^^^^^^^^^^^^^^^^\n",
      "  File \"/app/app.py\", line 22, in get_products\n",
      "    database = mysql.connector.connect(\n",
      "               ^^^^^^^^^^^^^^^^^^^^^^^^\n",
      "  File \"/usr/local/lib/python3.11/site-packages/mysql/connector/__init__.py\", line 273, in connect\n",
      "    return MySQLConnection(*args, **kwargs)\n",
      "           ^^^^^^^^^^^^^^^^^^^^^^^^^^^^^^^^\n",
      "  File \"/usr/local/lib/python3.11/site-packages/mysql/connector/connection.py\", line 115, in __init__\n",
      "    self.connect(**kwargs)\n",
      "  File \"/usr/local/lib/python3.11/site-packages/mysql/connector/abstracts.py\", line 1028, in connect\n",
      "    self._open_connection()\n",
      "  File \"/usr/local/lib/python3.11/site-packages/mysql/connector/connection.py\", line 492, in _open_connection\n",
      "    self._socket.open_connection()\n",
      "  File \"/usr/local/lib/python3.11/site-packages/mysql/connector/network.py\", line 576, in open_connection\n",
      "    raise errors.InterfaceError(\n",
      "mysql.connector.errors.InterfaceError: 2003: Can't connect to MySQL server on 'mysql-flask-app-container:3306' (111 Connection refused)\n",
      "172.18.0.1 - - [18/Apr/2023 07:08:44] \"\u001b[35m\u001b[1mGET /products HTTP/1.1\u001b[0m\" 500 -\n"
     ]
    }
   ],
   "source": [
    "!docker logs b6e"
   ]
  },
  {
   "cell_type": "code",
   "execution_count": 27,
   "metadata": {},
   "outputs": [
    {
     "name": "stdout",
     "output_type": "stream",
     "text": [
      "init Database"
     ]
    }
   ],
   "source": [
    "!curl localhost:5002/initdb"
   ]
  },
  {
   "cell_type": "code",
   "execution_count": 28,
   "metadata": {},
   "outputs": [
    {
     "name": "stdout",
     "output_type": "stream",
     "text": [
      "init Tables"
     ]
    }
   ],
   "source": [
    "!curl localhost:5002/init_tables"
   ]
  },
  {
   "cell_type": "code",
   "execution_count": null,
   "metadata": {},
   "outputs": [],
   "source": [
    "!docker exec -it mysql-flask-app-container mysql -u root -p"
   ]
  },
  {
   "cell_type": "code",
   "execution_count": null,
   "metadata": {},
   "outputs": [],
   "source": [
    "!INSERT INTO tblProduct(name, description) VALUES\n",
    "('macboook pro m1', 'please buy'),\n",
    "('iphone 13', 'please buy and buy');"
   ]
  },
  {
   "cell_type": "code",
   "execution_count": 29,
   "metadata": {},
   "outputs": [
    {
     "name": "stdout",
     "output_type": "stream",
     "text": [
      "[{\"id\": 1, \"name\": \"macboook pro m1\", \"description\": \"please buy\"}, {\"id\": 2, \"name\": \"iphone 13\", \"description\": \"please buy and buy\"}]"
     ]
    }
   ],
   "source": [
    "!curl localhost:5002/products"
   ]
  }
 ],
 "metadata": {
  "kernelspec": {
   "display_name": "base",
   "language": "python",
   "name": "python3"
  },
  "language_info": {
   "codemirror_mode": {
    "name": "ipython",
    "version": 3
   },
   "file_extension": ".py",
   "mimetype": "text/x-python",
   "name": "python",
   "nbconvert_exporter": "python",
   "pygments_lexer": "ipython3",
   "version": "3.9.13"
  },
  "orig_nbformat": 4
 },
 "nbformat": 4,
 "nbformat_minor": 2
}
